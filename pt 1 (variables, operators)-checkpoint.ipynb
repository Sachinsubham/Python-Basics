{
 "cells": [
  {
   "cell_type": "markdown",
   "id": "d3fd4556",
   "metadata": {},
   "source": [
    "# python tutorial"
   ]
  },
  {
   "cell_type": "markdown",
   "id": "5673ab98",
   "metadata": {},
   "source": [
    "This is my first program. so i started from here"
   ]
  },
  {
   "cell_type": "code",
   "execution_count": 1,
   "id": "fc7df2df",
   "metadata": {},
   "outputs": [
    {
     "name": "stdout",
     "output_type": "stream",
     "text": [
      "hello world\n"
     ]
    }
   ],
   "source": [
    "print(\"hello world\")"
   ]
  },
  {
   "cell_type": "markdown",
   "id": "ba7667ea",
   "metadata": {},
   "source": [
    "# variables in python"
   ]
  },
  {
   "cell_type": "markdown",
   "id": "b19d45c1",
   "metadata": {},
   "source": [
    "data/values can be stored in temporary space is called variables."
   ]
  },
  {
   "cell_type": "code",
   "execution_count": 9,
   "id": "53b71d2e",
   "metadata": {},
   "outputs": [],
   "source": [
    "a = 6"
   ]
  },
  {
   "cell_type": "code",
   "execution_count": 10,
   "id": "4de1b3b9",
   "metadata": {},
   "outputs": [],
   "source": [
    "b = 4"
   ]
  },
  {
   "cell_type": "code",
   "execution_count": 49,
   "id": "461fbd63",
   "metadata": {},
   "outputs": [],
   "source": [
    "del a    # used for delete the particular variable"
   ]
  },
  {
   "cell_type": "code",
   "execution_count": 12,
   "id": "df2464ee",
   "metadata": {},
   "outputs": [],
   "source": [
    "a = 5"
   ]
  },
  {
   "cell_type": "code",
   "execution_count": 13,
   "id": "8caa14dd",
   "metadata": {},
   "outputs": [
    {
     "data": {
      "text/plain": [
       "5"
      ]
     },
     "execution_count": 13,
     "metadata": {},
     "output_type": "execute_result"
    }
   ],
   "source": [
    "a"
   ]
  },
  {
   "cell_type": "code",
   "execution_count": 14,
   "id": "4d2429fd",
   "metadata": {},
   "outputs": [
    {
     "data": {
      "text/plain": [
       "4"
      ]
     },
     "execution_count": 14,
     "metadata": {},
     "output_type": "execute_result"
    }
   ],
   "source": [
    "b"
   ]
  },
  {
   "cell_type": "code",
   "execution_count": 15,
   "id": "9e5fa1a6",
   "metadata": {},
   "outputs": [],
   "source": [
    "b = 3"
   ]
  },
  {
   "cell_type": "code",
   "execution_count": 16,
   "id": "1bfb8b4e",
   "metadata": {},
   "outputs": [
    {
     "data": {
      "text/plain": [
       "3"
      ]
     },
     "execution_count": 16,
     "metadata": {},
     "output_type": "execute_result"
    }
   ],
   "source": [
    "b"
   ]
  },
  {
   "cell_type": "code",
   "execution_count": 17,
   "id": "855fe2f9",
   "metadata": {},
   "outputs": [],
   "source": [
    "del b"
   ]
  },
  {
   "cell_type": "code",
   "execution_count": 18,
   "id": "3f49625c",
   "metadata": {},
   "outputs": [
    {
     "ename": "NameError",
     "evalue": "name 'b' is not defined",
     "output_type": "error",
     "traceback": [
      "\u001b[1;31m---------------------------------------------------------------------------\u001b[0m",
      "\u001b[1;31mNameError\u001b[0m                                 Traceback (most recent call last)",
      "\u001b[1;32m~\\AppData\\Local\\Temp/ipykernel_8488/1685013873.py\u001b[0m in \u001b[0;36m<module>\u001b[1;34m\u001b[0m\n\u001b[1;32m----> 1\u001b[1;33m \u001b[0mb\u001b[0m\u001b[1;33m\u001b[0m\u001b[1;33m\u001b[0m\u001b[0m\n\u001b[0m",
      "\u001b[1;31mNameError\u001b[0m: name 'b' is not defined"
     ]
    }
   ],
   "source": [
    "b"
   ]
  },
  {
   "cell_type": "code",
   "execution_count": 20,
   "id": "8ab5bfa8",
   "metadata": {},
   "outputs": [],
   "source": [
    "a = 12"
   ]
  },
  {
   "cell_type": "code",
   "execution_count": 21,
   "id": "8bbe782c",
   "metadata": {},
   "outputs": [
    {
     "data": {
      "text/plain": [
       "12"
      ]
     },
     "execution_count": 21,
     "metadata": {},
     "output_type": "execute_result"
    }
   ],
   "source": [
    "a"
   ]
  },
  {
   "cell_type": "code",
   "execution_count": 22,
   "id": "96a49243",
   "metadata": {},
   "outputs": [
    {
     "data": {
      "text/plain": [
       "52"
      ]
     },
     "execution_count": 22,
     "metadata": {},
     "output_type": "execute_result"
    }
   ],
   "source": [
    "b = 52\n",
    "b"
   ]
  },
  {
   "cell_type": "code",
   "execution_count": 29,
   "id": "b36c3ce3",
   "metadata": {},
   "outputs": [
    {
     "name": "stdout",
     "output_type": "stream",
     "text": [
      "Variable   Type    Data/Info\n",
      "----------------------------\n",
      "a          int     12\n",
      "b          int     52\n"
     ]
    }
   ],
   "source": [
    "%whos    # this operator used for currently how many variables are stored in memory"
   ]
  },
  {
   "cell_type": "code",
   "execution_count": 30,
   "id": "aba7a913",
   "metadata": {},
   "outputs": [],
   "source": [
    "x = 5.8"
   ]
  },
  {
   "cell_type": "code",
   "execution_count": 31,
   "id": "1d6fb353",
   "metadata": {},
   "outputs": [
    {
     "name": "stdout",
     "output_type": "stream",
     "text": [
      "<class 'float'>\n"
     ]
    }
   ],
   "source": [
    "print(type(x))     # this operator used for print the type of datatype in particular variable"
   ]
  },
  {
   "cell_type": "code",
   "execution_count": 32,
   "id": "5c465179",
   "metadata": {},
   "outputs": [],
   "source": [
    "p,q,r,s = 5,3.0,2.4,60     # this syntax used for assining multiple variables in a single cell"
   ]
  },
  {
   "cell_type": "code",
   "execution_count": 33,
   "id": "468531a7",
   "metadata": {},
   "outputs": [
    {
     "name": "stdout",
     "output_type": "stream",
     "text": [
      "Variable   Type     Data/Info\n",
      "-----------------------------\n",
      "a          int      12\n",
      "b          int      52\n",
      "p          int      5\n",
      "q          float    3.0\n",
      "r          float    2.4\n",
      "s          int      60\n",
      "x          float    5.8\n"
     ]
    }
   ],
   "source": [
    "%whos"
   ]
  },
  {
   "cell_type": "code",
   "execution_count": 34,
   "id": "bfb1b7bd",
   "metadata": {},
   "outputs": [
    {
     "name": "stdout",
     "output_type": "stream",
     "text": [
      "12\n"
     ]
    }
   ],
   "source": [
    "print(a)"
   ]
  },
  {
   "cell_type": "markdown",
   "id": "1a537332",
   "metadata": {},
   "source": [
    "Types of datatypes in varaiables\n",
    "1) int\n",
    "2) float\n",
    "3) bool    (ex- True, False )     /* 'bool' means boolean*/\n",
    "4) str       (ex - \"sam\", \"john\" )   /* 'str' means string*/\n",
    "5) complex    ( ex- 2+3j, 5+4i )"
   ]
  },
  {
   "cell_type": "code",
   "execution_count": 35,
   "id": "b062312e",
   "metadata": {},
   "outputs": [],
   "source": [
    "y = 3+2j"
   ]
  },
  {
   "cell_type": "code",
   "execution_count": 36,
   "id": "8760100f",
   "metadata": {},
   "outputs": [
    {
     "name": "stdout",
     "output_type": "stream",
     "text": [
      "<class 'complex'>\n"
     ]
    }
   ],
   "source": [
    "print(type(y))"
   ]
  },
  {
   "cell_type": "code",
   "execution_count": 37,
   "id": "3a4b5d79",
   "metadata": {},
   "outputs": [],
   "source": [
    "c = \"how are you\""
   ]
  },
  {
   "cell_type": "code",
   "execution_count": 38,
   "id": "b9112f98",
   "metadata": {},
   "outputs": [
    {
     "name": "stdout",
     "output_type": "stream",
     "text": [
      "<class 'str'>\n"
     ]
    }
   ],
   "source": [
    "print(type(c))"
   ]
  },
  {
   "cell_type": "code",
   "execution_count": 39,
   "id": "3b023e22",
   "metadata": {},
   "outputs": [
    {
     "data": {
      "text/plain": [
       "'hello world'"
      ]
     },
     "execution_count": 39,
     "metadata": {},
     "output_type": "execute_result"
    }
   ],
   "source": [
    "\"hello world\""
   ]
  },
  {
   "cell_type": "code",
   "execution_count": 40,
   "id": "a62117d7",
   "metadata": {},
   "outputs": [
    {
     "data": {
      "text/plain": [
       "'hello world'"
      ]
     },
     "execution_count": 40,
     "metadata": {},
     "output_type": "execute_result"
    }
   ],
   "source": [
    "'hello world'"
   ]
  },
  {
   "cell_type": "code",
   "execution_count": 41,
   "id": "e88b2894",
   "metadata": {},
   "outputs": [
    {
     "name": "stdout",
     "output_type": "stream",
     "text": [
      "hello world\n"
     ]
    }
   ],
   "source": [
    "print(\"hello world\")"
   ]
  },
  {
   "cell_type": "code",
   "execution_count": 42,
   "id": "c037cf4b",
   "metadata": {},
   "outputs": [
    {
     "data": {
      "text/plain": [
       "'how are you'"
      ]
     },
     "execution_count": 42,
     "metadata": {},
     "output_type": "execute_result"
    }
   ],
   "source": [
    "c"
   ]
  },
  {
   "cell_type": "code",
   "execution_count": 43,
   "id": "06cd8630",
   "metadata": {},
   "outputs": [
    {
     "ename": "NameError",
     "evalue": "name 'true' is not defined",
     "output_type": "error",
     "traceback": [
      "\u001b[1;31m---------------------------------------------------------------------------\u001b[0m",
      "\u001b[1;31mNameError\u001b[0m                                 Traceback (most recent call last)",
      "\u001b[1;32m~\\AppData\\Local\\Temp/ipykernel_8488/1422401313.py\u001b[0m in \u001b[0;36m<module>\u001b[1;34m\u001b[0m\n\u001b[1;32m----> 1\u001b[1;33m \u001b[0md\u001b[0m \u001b[1;33m=\u001b[0m \u001b[0mtrue\u001b[0m\u001b[1;33m\u001b[0m\u001b[1;33m\u001b[0m\u001b[0m\n\u001b[0m",
      "\u001b[1;31mNameError\u001b[0m: name 'true' is not defined"
     ]
    }
   ],
   "source": [
    "d = true"
   ]
  },
  {
   "cell_type": "code",
   "execution_count": 44,
   "id": "7b94824c",
   "metadata": {},
   "outputs": [],
   "source": [
    "d = True"
   ]
  },
  {
   "cell_type": "code",
   "execution_count": 45,
   "id": "14d4a465",
   "metadata": {},
   "outputs": [
    {
     "data": {
      "text/plain": [
       "True"
      ]
     },
     "execution_count": 45,
     "metadata": {},
     "output_type": "execute_result"
    }
   ],
   "source": [
    "d"
   ]
  },
  {
   "cell_type": "code",
   "execution_count": 46,
   "id": "0bf83b8d",
   "metadata": {},
   "outputs": [
    {
     "data": {
      "text/plain": [
       "bool"
      ]
     },
     "execution_count": 46,
     "metadata": {},
     "output_type": "execute_result"
    }
   ],
   "source": [
    "type(d)"
   ]
  },
  {
   "cell_type": "code",
   "execution_count": 47,
   "id": "380bf6f0",
   "metadata": {},
   "outputs": [
    {
     "ename": "NameError",
     "evalue": "name 'TRUE' is not defined",
     "output_type": "error",
     "traceback": [
      "\u001b[1;31m---------------------------------------------------------------------------\u001b[0m",
      "\u001b[1;31mNameError\u001b[0m                                 Traceback (most recent call last)",
      "\u001b[1;32m~\\AppData\\Local\\Temp/ipykernel_8488/431274284.py\u001b[0m in \u001b[0;36m<module>\u001b[1;34m\u001b[0m\n\u001b[1;32m----> 1\u001b[1;33m \u001b[0me\u001b[0m \u001b[1;33m=\u001b[0m \u001b[0mTRUE\u001b[0m\u001b[1;33m\u001b[0m\u001b[1;33m\u001b[0m\u001b[0m\n\u001b[0m",
      "\u001b[1;31mNameError\u001b[0m: name 'TRUE' is not defined"
     ]
    }
   ],
   "source": [
    "e = TRUE"
   ]
  },
  {
   "cell_type": "code",
   "execution_count": 48,
   "id": "34f6a6b6",
   "metadata": {},
   "outputs": [
    {
     "name": "stdout",
     "output_type": "stream",
     "text": [
      "Variable   Type       Data/Info\n",
      "-------------------------------\n",
      "a          int        12\n",
      "b          int        52\n",
      "c          str        how are you\n",
      "d          bool       True\n",
      "p          int        5\n",
      "q          float      3.0\n",
      "r          float      2.4\n",
      "s          int        60\n",
      "x          float      5.8\n",
      "y          complex    (3+2j)\n"
     ]
    }
   ],
   "source": [
    "%whos"
   ]
  },
  {
   "cell_type": "code",
   "execution_count": 50,
   "id": "f48fa6c0",
   "metadata": {},
   "outputs": [
    {
     "ename": "NameError",
     "evalue": "name 'a' is not defined",
     "output_type": "error",
     "traceback": [
      "\u001b[1;31m---------------------------------------------------------------------------\u001b[0m",
      "\u001b[1;31mNameError\u001b[0m                                 Traceback (most recent call last)",
      "\u001b[1;32m~\\AppData\\Local\\Temp/ipykernel_8488/2167009006.py\u001b[0m in \u001b[0;36m<module>\u001b[1;34m\u001b[0m\n\u001b[1;32m----> 1\u001b[1;33m \u001b[0ma\u001b[0m\u001b[1;33m\u001b[0m\u001b[1;33m\u001b[0m\u001b[0m\n\u001b[0m",
      "\u001b[1;31mNameError\u001b[0m: name 'a' is not defined"
     ]
    }
   ],
   "source": [
    "a"
   ]
  },
  {
   "cell_type": "code",
   "execution_count": 51,
   "id": "3a3078d0",
   "metadata": {},
   "outputs": [
    {
     "ename": "NameError",
     "evalue": "name 'a' is not defined",
     "output_type": "error",
     "traceback": [
      "\u001b[1;31m---------------------------------------------------------------------------\u001b[0m",
      "\u001b[1;31mNameError\u001b[0m                                 Traceback (most recent call last)",
      "\u001b[1;32m~\\AppData\\Local\\Temp/ipykernel_8488/2167009006.py\u001b[0m in \u001b[0;36m<module>\u001b[1;34m\u001b[0m\n\u001b[1;32m----> 1\u001b[1;33m \u001b[0ma\u001b[0m\u001b[1;33m\u001b[0m\u001b[1;33m\u001b[0m\u001b[0m\n\u001b[0m",
      "\u001b[1;31mNameError\u001b[0m: name 'a' is not defined"
     ]
    }
   ],
   "source": [
    "a"
   ]
  },
  {
   "cell_type": "markdown",
   "id": "cb05c79a",
   "metadata": {},
   "source": [
    "# operators in python"
   ]
  },
  {
   "cell_type": "markdown",
   "id": "7ecb7d26",
   "metadata": {},
   "source": [
    "1) Arithmetic operators ( + , - , * , / , %  , // , ** )\n",
    "  2) relational operators\n",
    "  3) logical operators"
   ]
  },
  {
   "cell_type": "code",
   "execution_count": 52,
   "id": "ab9c3e9c",
   "metadata": {},
   "outputs": [
    {
     "name": "stdout",
     "output_type": "stream",
     "text": [
      "Variable   Type       Data/Info\n",
      "-------------------------------\n",
      "b          int        52\n",
      "c          str        how are you\n",
      "d          bool       True\n",
      "p          int        5\n",
      "q          float      3.0\n",
      "r          float      2.4\n",
      "s          int        60\n",
      "x          float      5.8\n",
      "y          complex    (3+2j)\n"
     ]
    }
   ],
   "source": [
    "%whos"
   ]
  },
  {
   "cell_type": "markdown",
   "id": "76810bd9",
   "metadata": {},
   "source": [
    "1) Arithmetic operators"
   ]
  },
  {
   "cell_type": "code",
   "execution_count": 53,
   "id": "f96a4c04",
   "metadata": {},
   "outputs": [],
   "source": [
    "sumOfbAndp = b + p  # space is not allowed while writing name of variable "
   ]
  },
  {
   "cell_type": "code",
   "execution_count": 54,
   "id": "460039a0",
   "metadata": {},
   "outputs": [
    {
     "data": {
      "text/plain": [
       "57"
      ]
     },
     "execution_count": 54,
     "metadata": {},
     "output_type": "execute_result"
    }
   ],
   "source": [
    "sumOfbAndp"
   ]
  },
  {
   "cell_type": "code",
   "execution_count": 55,
   "id": "b7d99226",
   "metadata": {},
   "outputs": [
    {
     "data": {
      "text/plain": [
       "int"
      ]
     },
     "execution_count": 55,
     "metadata": {},
     "output_type": "execute_result"
    }
   ],
   "source": [
    "type(sumOfbAndp)"
   ]
  },
  {
   "cell_type": "code",
   "execution_count": 56,
   "id": "54ed1dea",
   "metadata": {},
   "outputs": [
    {
     "data": {
      "text/plain": [
       "float"
      ]
     },
     "execution_count": 56,
     "metadata": {},
     "output_type": "execute_result"
    }
   ],
   "source": [
    "type(q + r)"
   ]
  },
  {
   "cell_type": "code",
   "execution_count": 57,
   "id": "61c0a698",
   "metadata": {},
   "outputs": [],
   "source": [
    "v = ((((b+p)*q)**2)/p)   # '**' used for power "
   ]
  },
  {
   "cell_type": "code",
   "execution_count": 58,
   "id": "c61b1e68",
   "metadata": {},
   "outputs": [
    {
     "data": {
      "text/plain": [
       "5848.2"
      ]
     },
     "execution_count": 58,
     "metadata": {},
     "output_type": "execute_result"
    }
   ],
   "source": [
    "v"
   ]
  },
  {
   "cell_type": "code",
   "execution_count": 59,
   "id": "caf8545c",
   "metadata": {},
   "outputs": [
    {
     "name": "stdout",
     "output_type": "stream",
     "text": [
      "helloworld\n"
     ]
    }
   ],
   "source": [
    "s1 = \"hello\"\n",
    "s2 = \"world\"\n",
    "s = s1+s2\n",
    "print (s)"
   ]
  },
  {
   "cell_type": "code",
   "execution_count": 60,
   "id": "9304ee8d",
   "metadata": {},
   "outputs": [
    {
     "data": {
      "text/plain": [
       "3.3333333333333335"
      ]
     },
     "execution_count": 60,
     "metadata": {},
     "output_type": "execute_result"
    }
   ],
   "source": [
    "10/3"
   ]
  },
  {
   "cell_type": "code",
   "execution_count": 61,
   "id": "e73c70f0",
   "metadata": {},
   "outputs": [
    {
     "data": {
      "text/plain": [
       "3"
      ]
     },
     "execution_count": 61,
     "metadata": {},
     "output_type": "execute_result"
    }
   ],
   "source": [
    "10//3   # '//'  used for finding integer quotient not the float quotient"
   ]
  },
  {
   "cell_type": "code",
   "execution_count": 62,
   "id": "98b84569",
   "metadata": {},
   "outputs": [
    {
     "data": {
      "text/plain": [
       "3"
      ]
     },
     "execution_count": 62,
     "metadata": {},
     "output_type": "execute_result"
    }
   ],
   "source": [
    "_   # underscore operator gives the latest operator results which are not assign by any variable"
   ]
  },
  {
   "cell_type": "markdown",
   "id": "009cdd03",
   "metadata": {},
   "source": [
    "how to writing variables name   \n",
    "1) space is not allowed   \n",
    "  2) variable name is not starting with any digits, special characters (ex- 3x , @y.......but exception with underscore ...ex-'_a' can be the variable name)  \n",
    "   3) we can use 'camel case' ( ex- firstNameOfEmployee , lastName )"
   ]
  }
 ],
 "metadata": {
  "kernelspec": {
   "display_name": "Python 3 (ipykernel)",
   "language": "python",
   "name": "python3"
  },
  "language_info": {
   "codemirror_mode": {
    "name": "ipython",
    "version": 3
   },
   "file_extension": ".py",
   "mimetype": "text/x-python",
   "name": "python",
   "nbconvert_exporter": "python",
   "pygments_lexer": "ipython3",
   "version": "3.9.7"
  }
 },
 "nbformat": 4,
 "nbformat_minor": 5
}
