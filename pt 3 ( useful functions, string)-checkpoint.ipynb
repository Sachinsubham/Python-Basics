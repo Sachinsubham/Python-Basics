{
 "cells": [
  {
   "cell_type": "markdown",
   "id": "cdd1b5cb",
   "metadata": {},
   "source": [
    "# some useful functions in python"
   ]
  },
  {
   "cell_type": "markdown",
   "id": "cf3be885",
   "metadata": {},
   "source": [
    "1) round function - this function round the input value to the nearest integer."
   ]
  },
  {
   "cell_type": "code",
   "execution_count": 1,
   "id": "f9ff8ea2",
   "metadata": {},
   "outputs": [
    {
     "name": "stdout",
     "output_type": "stream",
     "text": [
      "5\n"
     ]
    }
   ],
   "source": [
    "print(round(4.556))"
   ]
  },
  {
   "cell_type": "code",
   "execution_count": 2,
   "id": "db27bce5",
   "metadata": {},
   "outputs": [
    {
     "name": "stdout",
     "output_type": "stream",
     "text": [
      "5\n"
     ]
    }
   ],
   "source": [
    "print(round(4.553))"
   ]
  },
  {
   "cell_type": "code",
   "execution_count": 3,
   "id": "de4b3802",
   "metadata": {},
   "outputs": [
    {
     "name": "stdout",
     "output_type": "stream",
     "text": [
      "4.56\n"
     ]
    }
   ],
   "source": [
    "print(round(4.556789,2))   # here 2 indicates the result should be the two decimal places after the decimal"
   ]
  },
  {
   "cell_type": "code",
   "execution_count": 4,
   "id": "dd6b6a71",
   "metadata": {},
   "outputs": [
    {
     "name": "stdout",
     "output_type": "stream",
     "text": [
      "4.55\n"
     ]
    }
   ],
   "source": [
    "print(round(4.553789,2))"
   ]
  },
  {
   "cell_type": "code",
   "execution_count": 5,
   "id": "1dd86dea",
   "metadata": {},
   "outputs": [
    {
     "name": "stdout",
     "output_type": "stream",
     "text": [
      "4.556\n"
     ]
    }
   ],
   "source": [
    "print(round(4.556389,3))"
   ]
  },
  {
   "cell_type": "markdown",
   "id": "a385495a",
   "metadata": {},
   "source": [
    "2) divmod(x,y) - the output will be the quotient and remainder in a tuple."
   ]
  },
  {
   "cell_type": "code",
   "execution_count": 8,
   "id": "7555be68",
   "metadata": {},
   "outputs": [],
   "source": [
    "G = divmod(34,9)           # (3,7) is tuple."
   ]
  },
  {
   "cell_type": "code",
   "execution_count": 9,
   "id": "6ef1675a",
   "metadata": {},
   "outputs": [
    {
     "name": "stdout",
     "output_type": "stream",
     "text": [
      "(3, 7)\n"
     ]
    }
   ],
   "source": [
    "print(G)"
   ]
  },
  {
   "cell_type": "code",
   "execution_count": 10,
   "id": "942ee7b6",
   "metadata": {},
   "outputs": [
    {
     "data": {
      "text/plain": [
       "tuple"
      ]
     },
     "execution_count": 10,
     "metadata": {},
     "output_type": "execute_result"
    }
   ],
   "source": [
    "type(G)"
   ]
  },
  {
   "cell_type": "code",
   "execution_count": 11,
   "id": "9dd56fc0",
   "metadata": {},
   "outputs": [
    {
     "data": {
      "text/plain": [
       "3"
      ]
     },
     "execution_count": 11,
     "metadata": {},
     "output_type": "execute_result"
    }
   ],
   "source": [
    "G[0]         # [0] gives the first indexing or position of elements in this particular collection"
   ]
  },
  {
   "cell_type": "code",
   "execution_count": 12,
   "id": "c6745ed2",
   "metadata": {},
   "outputs": [
    {
     "data": {
      "text/plain": [
       "7"
      ]
     },
     "execution_count": 12,
     "metadata": {},
     "output_type": "execute_result"
    }
   ],
   "source": [
    "G[1]"
   ]
  },
  {
   "cell_type": "code",
   "execution_count": 14,
   "id": "823f93ab",
   "metadata": {},
   "outputs": [
    {
     "data": {
      "text/plain": [
       "3"
      ]
     },
     "execution_count": 14,
     "metadata": {},
     "output_type": "execute_result"
    }
   ],
   "source": [
    "34//9         # divmod can also be calculate by this way"
   ]
  },
  {
   "cell_type": "code",
   "execution_count": 15,
   "id": "9ed76fb2",
   "metadata": {},
   "outputs": [
    {
     "data": {
      "text/plain": [
       "7"
      ]
     },
     "execution_count": 15,
     "metadata": {},
     "output_type": "execute_result"
    }
   ],
   "source": [
    "34%9           # divmod can also be calculated by this way"
   ]
  },
  {
   "cell_type": "markdown",
   "id": "183cb65f",
   "metadata": {},
   "source": [
    "3) isinstance - it returns true , if the first argument ia an instance of that class. Multiple classes can also be checked at once.   \n",
    "     isinstance is used for checking the type of datatype of given input."
   ]
  },
  {
   "cell_type": "code",
   "execution_count": 1,
   "id": "19ea75dc",
   "metadata": {},
   "outputs": [],
   "source": [
    "r = isinstance(3,int)     # is 3 int ?"
   ]
  },
  {
   "cell_type": "code",
   "execution_count": 2,
   "id": "6fd4cddc",
   "metadata": {},
   "outputs": [
    {
     "name": "stdout",
     "output_type": "stream",
     "text": [
      "True\n"
     ]
    }
   ],
   "source": [
    "print(r)"
   ]
  },
  {
   "cell_type": "code",
   "execution_count": 3,
   "id": "786ff7b1",
   "metadata": {},
   "outputs": [
    {
     "data": {
      "text/plain": [
       "bool"
      ]
     },
     "execution_count": 3,
     "metadata": {},
     "output_type": "execute_result"
    }
   ],
   "source": [
    "type(r)"
   ]
  },
  {
   "cell_type": "code",
   "execution_count": 17,
   "id": "c3a20513",
   "metadata": {},
   "outputs": [
    {
     "data": {
      "text/plain": [
       "False"
      ]
     },
     "execution_count": 17,
     "metadata": {},
     "output_type": "execute_result"
    }
   ],
   "source": [
    "isinstance(3.0,int) "
   ]
  },
  {
   "cell_type": "code",
   "execution_count": 18,
   "id": "9d100d74",
   "metadata": {},
   "outputs": [
    {
     "data": {
      "text/plain": [
       "False"
      ]
     },
     "execution_count": 18,
     "metadata": {},
     "output_type": "execute_result"
    }
   ],
   "source": [
    "isinstance(3,float) "
   ]
  },
  {
   "cell_type": "code",
   "execution_count": 19,
   "id": "7b2e6770",
   "metadata": {},
   "outputs": [
    {
     "data": {
      "text/plain": [
       "True"
      ]
     },
     "execution_count": 19,
     "metadata": {},
     "output_type": "execute_result"
    }
   ],
   "source": [
    "isinstance(3.0,float) "
   ]
  },
  {
   "cell_type": "code",
   "execution_count": 20,
   "id": "2f0e36f1",
   "metadata": {},
   "outputs": [
    {
     "data": {
      "text/plain": [
       "True"
      ]
     },
     "execution_count": 20,
     "metadata": {},
     "output_type": "execute_result"
    }
   ],
   "source": [
    "isinstance(3.4,(int,float))       # is 3.4 int or float ?"
   ]
  },
  {
   "cell_type": "code",
   "execution_count": 22,
   "id": "39dcb6f3",
   "metadata": {},
   "outputs": [
    {
     "data": {
      "text/plain": [
       "False"
      ]
     },
     "execution_count": 22,
     "metadata": {},
     "output_type": "execute_result"
    }
   ],
   "source": [
    "isinstance(3+2j,(int,float))"
   ]
  },
  {
   "cell_type": "code",
   "execution_count": 26,
   "id": "c260b548",
   "metadata": {},
   "outputs": [
    {
     "data": {
      "text/plain": [
       "True"
      ]
     },
     "execution_count": 26,
     "metadata": {},
     "output_type": "execute_result"
    }
   ],
   "source": [
    "isinstance(3+2j,(int,float,str,complex))"
   ]
  },
  {
   "cell_type": "code",
   "execution_count": 5,
   "id": "e7dcff71",
   "metadata": {},
   "outputs": [
    {
     "data": {
      "text/plain": [
       "True"
      ]
     },
     "execution_count": 5,
     "metadata": {},
     "output_type": "execute_result"
    }
   ],
   "source": [
    "isinstance('abc',str)"
   ]
  },
  {
   "cell_type": "code",
   "execution_count": 6,
   "id": "f68c52d2",
   "metadata": {},
   "outputs": [
    {
     "data": {
      "text/plain": [
       "True"
      ]
     },
     "execution_count": 6,
     "metadata": {},
     "output_type": "execute_result"
    }
   ],
   "source": [
    "isinstance('12',str)"
   ]
  },
  {
   "cell_type": "code",
   "execution_count": 7,
   "id": "40bc1f76",
   "metadata": {},
   "outputs": [
    {
     "data": {
      "text/plain": [
       "True"
      ]
     },
     "execution_count": 7,
     "metadata": {},
     "output_type": "execute_result"
    }
   ],
   "source": [
    "isinstance(12,int)"
   ]
  },
  {
   "cell_type": "code",
   "execution_count": 8,
   "id": "ffbec6a4",
   "metadata": {},
   "outputs": [
    {
     "data": {
      "text/plain": [
       "True"
      ]
     },
     "execution_count": 8,
     "metadata": {},
     "output_type": "execute_result"
    }
   ],
   "source": [
    "isinstance(\"12\",str)"
   ]
  },
  {
   "cell_type": "markdown",
   "id": "93b4ec32",
   "metadata": {},
   "source": [
    "4) pow(x,y,z) - x raise to power y and remainder by z.  \n",
    "    or pow(x,y,z) = (x^y) % Z   \n",
    "      pow(x,y) = x^y"
   ]
  },
  {
   "cell_type": "code",
   "execution_count": 27,
   "id": "33b0ee02",
   "metadata": {},
   "outputs": [
    {
     "data": {
      "text/plain": [
       "16"
      ]
     },
     "execution_count": 27,
     "metadata": {},
     "output_type": "execute_result"
    }
   ],
   "source": [
    "pow(2,4)"
   ]
  },
  {
   "cell_type": "code",
   "execution_count": 28,
   "id": "2b832a54",
   "metadata": {},
   "outputs": [
    {
     "data": {
      "text/plain": [
       "16"
      ]
     },
     "execution_count": 28,
     "metadata": {},
     "output_type": "execute_result"
    }
   ],
   "source": [
    "2**4"
   ]
  },
  {
   "cell_type": "code",
   "execution_count": 29,
   "id": "5847b4dc",
   "metadata": {},
   "outputs": [
    {
     "data": {
      "text/plain": [
       "2"
      ]
     },
     "execution_count": 29,
     "metadata": {},
     "output_type": "execute_result"
    }
   ],
   "source": [
    "pow(2,4,7)                             # (2^4)%7"
   ]
  },
  {
   "cell_type": "markdown",
   "id": "55815450",
   "metadata": {},
   "source": [
    "5) input() a - input(\"enter something\")...... the returns always gives string datatype"
   ]
  },
  {
   "cell_type": "code",
   "execution_count": 10,
   "id": "30a048f4",
   "metadata": {},
   "outputs": [
    {
     "name": "stdout",
     "output_type": "stream",
     "text": [
      "enter a number23\n"
     ]
    }
   ],
   "source": [
    "y = input(\"enter a number\")"
   ]
  },
  {
   "cell_type": "code",
   "execution_count": 11,
   "id": "b5378b9e",
   "metadata": {},
   "outputs": [
    {
     "data": {
      "text/plain": [
       "str"
      ]
     },
     "execution_count": 11,
     "metadata": {},
     "output_type": "execute_result"
    }
   ],
   "source": [
    "type(y)     # here y always returns str whatever is enter "
   ]
  },
  {
   "cell_type": "code",
   "execution_count": 15,
   "id": "ed381149",
   "metadata": {},
   "outputs": [
    {
     "name": "stdout",
     "output_type": "stream",
     "text": [
      "Enter a number :42\n"
     ]
    }
   ],
   "source": [
    "y = input(\"Enter a number :\")"
   ]
  },
  {
   "cell_type": "code",
   "execution_count": 33,
   "id": "50d81c38",
   "metadata": {},
   "outputs": [
    {
     "data": {
      "text/plain": [
       "str"
      ]
     },
     "execution_count": 33,
     "metadata": {},
     "output_type": "execute_result"
    }
   ],
   "source": [
    "type(y)      # '''42 is here string type because whatever you enter in input received as character...\n",
    "                   ...means here 4 and 2 are character not the integer'''"
   ]
  },
  {
   "cell_type": "code",
   "execution_count": 34,
   "id": "b4978918",
   "metadata": {},
   "outputs": [],
   "source": [
    "y = int(y)      # way to convert string into integer"
   ]
  },
  {
   "cell_type": "code",
   "execution_count": 35,
   "id": "7cf76cad",
   "metadata": {},
   "outputs": [
    {
     "data": {
      "text/plain": [
       "int"
      ]
     },
     "execution_count": 35,
     "metadata": {},
     "output_type": "execute_result"
    }
   ],
   "source": [
    "type(y)"
   ]
  },
  {
   "cell_type": "code",
   "execution_count": 36,
   "id": "0e7ba5fb",
   "metadata": {},
   "outputs": [
    {
     "name": "stdout",
     "output_type": "stream",
     "text": [
      "20\n"
     ]
    }
   ],
   "source": [
    "print(y-22)"
   ]
  },
  {
   "cell_type": "code",
   "execution_count": 7,
   "id": "9672f367",
   "metadata": {},
   "outputs": [
    {
     "name": "stdout",
     "output_type": "stream",
     "text": [
      "enter a real number3\n"
     ]
    }
   ],
   "source": [
    "a = float(input(\"enter a real number\"))     # here we direct convert the string into float by adding float before input"
   ]
  },
  {
   "cell_type": "code",
   "execution_count": 6,
   "id": "c02abd9b",
   "metadata": {},
   "outputs": [
    {
     "data": {
      "text/plain": [
       "float"
      ]
     },
     "execution_count": 6,
     "metadata": {},
     "output_type": "execute_result"
    }
   ],
   "source": [
    "type(a)"
   ]
  },
  {
   "cell_type": "code",
   "execution_count": 12,
   "id": "5d427132",
   "metadata": {},
   "outputs": [
    {
     "name": "stdout",
     "output_type": "stream",
     "text": [
      "3.0\n"
     ]
    }
   ],
   "source": [
    "print(a)"
   ]
  },
  {
   "cell_type": "code",
   "execution_count": 8,
   "id": "3989f2f1",
   "metadata": {},
   "outputs": [
    {
     "name": "stdout",
     "output_type": "stream",
     "text": [
      "enter a real number ;abc\n"
     ]
    },
    {
     "ename": "ValueError",
     "evalue": "could not convert string to float: 'abc'",
     "output_type": "error",
     "traceback": [
      "\u001b[1;31m---------------------------------------------------------------------------\u001b[0m",
      "\u001b[1;31mValueError\u001b[0m                                Traceback (most recent call last)",
      "\u001b[1;32m~\\AppData\\Local\\Temp/ipykernel_7600/728968133.py\u001b[0m in \u001b[0;36m<module>\u001b[1;34m\u001b[0m\n\u001b[1;32m----> 1\u001b[1;33m \u001b[0mb\u001b[0m \u001b[1;33m=\u001b[0m \u001b[0mfloat\u001b[0m\u001b[1;33m(\u001b[0m\u001b[0minput\u001b[0m\u001b[1;33m(\u001b[0m\u001b[1;34m\"enter a real number ;\"\u001b[0m\u001b[1;33m)\u001b[0m\u001b[1;33m)\u001b[0m\u001b[1;33m\u001b[0m\u001b[1;33m\u001b[0m\u001b[0m\n\u001b[0m",
      "\u001b[1;31mValueError\u001b[0m: could not convert string to float: 'abc'"
     ]
    }
   ],
   "source": [
    "b = float(input(\"enter a real number ;\"))        # here abc can't be converted into float that's why error occured"
   ]
  },
  {
   "cell_type": "code",
   "execution_count": 9,
   "id": "25b7107d",
   "metadata": {},
   "outputs": [
    {
     "name": "stdout",
     "output_type": "stream",
     "text": [
      " enter student name :sachin\n"
     ]
    }
   ],
   "source": [
    "c = input(\" enter student name :\")"
   ]
  },
  {
   "cell_type": "code",
   "execution_count": 10,
   "id": "f60425c4",
   "metadata": {},
   "outputs": [
    {
     "data": {
      "text/plain": [
       "str"
      ]
     },
     "execution_count": 10,
     "metadata": {},
     "output_type": "execute_result"
    }
   ],
   "source": [
    "type(c)"
   ]
  },
  {
   "cell_type": "code",
   "execution_count": 11,
   "id": "0638ec33",
   "metadata": {},
   "outputs": [
    {
     "name": "stdout",
     "output_type": "stream",
     "text": [
      "Variable   Type     Data/Info\n",
      "-----------------------------\n",
      "a          float    3.0\n",
      "c          str      sachin\n",
      "z          float    12.4\n"
     ]
    }
   ],
   "source": [
    "%whos"
   ]
  },
  {
   "cell_type": "code",
   "execution_count": 13,
   "id": "a87f1e40",
   "metadata": {},
   "outputs": [
    {
     "name": "stdout",
     "output_type": "stream",
     "text": [
      "sachin\n"
     ]
    }
   ],
   "source": [
    "print(c)"
   ]
  },
  {
   "cell_type": "code",
   "execution_count": 18,
   "id": "88daa360",
   "metadata": {},
   "outputs": [
    {
     "ename": "SyntaxError",
     "evalue": "invalid syntax (Temp/ipykernel_7600/3915765744.py, line 1)",
     "output_type": "error",
     "traceback": [
      "\u001b[1;36m  File \u001b[1;32m\"C:\\Users\\sachi\\AppData\\Local\\Temp/ipykernel_7600/3915765744.py\"\u001b[1;36m, line \u001b[1;32m1\u001b[0m\n\u001b[1;33m    pow?\u001b[0m\n\u001b[1;37m       ^\u001b[0m\n\u001b[1;31mSyntaxError\u001b[0m\u001b[1;31m:\u001b[0m invalid syntax\n"
     ]
    }
   ],
   "source": [
    "pow?        # how to know function if we forget.....just type function syntax and ?.....or just type help(function syntax)  "
   ]
  },
  {
   "cell_type": "code",
   "execution_count": 20,
   "id": "53cd58f7",
   "metadata": {},
   "outputs": [
    {
     "ename": "SyntaxError",
     "evalue": "invalid syntax (Temp/ipykernel_7600/1542782457.py, line 1)",
     "output_type": "error",
     "traceback": [
      "\u001b[1;36m  File \u001b[1;32m\"C:\\Users\\sachi\\AppData\\Local\\Temp/ipykernel_7600/1542782457.py\"\u001b[1;36m, line \u001b[1;32m1\u001b[0m\n\u001b[1;33m    input?     # how to know function if we forget.....just type function syntax and ?.....or just type help(function syntax)\u001b[0m\n\u001b[1;37m         ^\u001b[0m\n\u001b[1;31mSyntaxError\u001b[0m\u001b[1;31m:\u001b[0m invalid syntax\n"
     ]
    }
   ],
   "source": [
    "input?     # how to know function if we forget.....just type function syntax and ?.....or just type help(function syntax)"
   ]
  },
  {
   "cell_type": "markdown",
   "id": "21be8f16",
   "metadata": {},
   "source": [
    "# some important terms in python"
   ]
  },
  {
   "cell_type": "markdown",
   "id": "c180bafc",
   "metadata": {},
   "source": [
    "1) Literals - literals are constant in python i.e, the value associated with the variables is called literals."
   ]
  },
  {
   "cell_type": "code",
   "execution_count": 22,
   "id": "8b45a744",
   "metadata": {},
   "outputs": [],
   "source": [
    "a = \"hello world\"   # here hello world is called literals"
   ]
  },
  {
   "cell_type": "code",
   "execution_count": 23,
   "id": "d3c4da3e",
   "metadata": {},
   "outputs": [],
   "source": [
    "a = 3.14       # 3.14 is called literals"
   ]
  },
  {
   "cell_type": "markdown",
   "id": "5dbec0d1",
   "metadata": {},
   "source": [
    "# string in python"
   ]
  },
  {
   "cell_type": "markdown",
   "id": "89a2653e",
   "metadata": {},
   "source": [
    "2) Strings - strings are sequence of characters enclosed within single quotes (' ') , double quotes (\" \") or triple quotes (''' ''' , \"\"\" \"\"\").   \n",
    "    single and double quotes are used for single line string.   \n",
    "         triple quotes are used for multiple line string."
   ]
  },
  {
   "cell_type": "code",
   "execution_count": 24,
   "id": "14c32d2c",
   "metadata": {},
   "outputs": [],
   "source": [
    "str1 = 'this is my first string'"
   ]
  },
  {
   "cell_type": "code",
   "execution_count": 26,
   "id": "b528c902",
   "metadata": {},
   "outputs": [
    {
     "name": "stdout",
     "output_type": "stream",
     "text": [
      "this is my first string\n"
     ]
    }
   ],
   "source": [
    "print(str1)"
   ]
  },
  {
   "cell_type": "code",
   "execution_count": 27,
   "id": "4c3ab253",
   "metadata": {},
   "outputs": [
    {
     "data": {
      "text/plain": [
       "'this is my first string'"
      ]
     },
     "execution_count": 27,
     "metadata": {},
     "output_type": "execute_result"
    }
   ],
   "source": [
    "str1"
   ]
  },
  {
   "cell_type": "code",
   "execution_count": 28,
   "id": "3ee65394",
   "metadata": {},
   "outputs": [],
   "source": [
    "str2 = \"this is my second string\""
   ]
  },
  {
   "cell_type": "code",
   "execution_count": 29,
   "id": "2037bd3b",
   "metadata": {},
   "outputs": [
    {
     "data": {
      "text/plain": [
       "'this is my second string'"
      ]
     },
     "execution_count": 29,
     "metadata": {},
     "output_type": "execute_result"
    }
   ],
   "source": [
    "str2"
   ]
  },
  {
   "cell_type": "code",
   "execution_count": 30,
   "id": "54dd326d",
   "metadata": {},
   "outputs": [],
   "source": [
    "str3 = '''this is my third\n",
    "string for writing \n",
    "multiple string'''"
   ]
  },
  {
   "cell_type": "code",
   "execution_count": 31,
   "id": "54abf99d",
   "metadata": {},
   "outputs": [
    {
     "data": {
      "text/plain": [
       "'this is my third\\nstring for writing \\nmultiple string'"
      ]
     },
     "execution_count": 31,
     "metadata": {},
     "output_type": "execute_result"
    }
   ],
   "source": [
    "str3"
   ]
  },
  {
   "cell_type": "code",
   "execution_count": 32,
   "id": "53cdc2d0",
   "metadata": {},
   "outputs": [],
   "source": [
    "str4 = \"\"\"\n",
    "\n",
    "  this is my also \n",
    "  writing for multiple \n",
    "  string by using \n",
    "  triple qoutes\"\"\""
   ]
  },
  {
   "cell_type": "code",
   "execution_count": 33,
   "id": "ba4a54f2",
   "metadata": {},
   "outputs": [
    {
     "data": {
      "text/plain": [
       "'\\n\\n  this is my also \\n  writing for multiple \\n  string by using \\n  triple qoutes'"
      ]
     },
     "execution_count": 33,
     "metadata": {},
     "output_type": "execute_result"
    }
   ],
   "source": [
    "str4"
   ]
  },
  {
   "cell_type": "code",
   "execution_count": 34,
   "id": "47bc2db2",
   "metadata": {},
   "outputs": [
    {
     "name": "stdout",
     "output_type": "stream",
     "text": [
      "Variable   Type     Data/Info\n",
      "-----------------------------\n",
      "a          float    3.14\n",
      "c          str      sachin\n",
      "str1       str      this is my first string\n",
      "str2       str      this is my second string\n",
      "str3       str      this is my third\\nstring <...>writing \\nmultiple string\n",
      "str4       str      \\n\\n  this is my also \\n <...>y using \\n  triple qoutes\n",
      "z          float    12.4\n"
     ]
    }
   ],
   "source": [
    "%whos"
   ]
  },
  {
   "cell_type": "markdown",
   "id": "2bd17c50",
   "metadata": {},
   "source": [
    "Extracting individual characters from string"
   ]
  },
  {
   "cell_type": "code",
   "execution_count": 2,
   "id": "065a2edd",
   "metadata": {},
   "outputs": [],
   "source": [
    "my_string = \"My name is john\""
   ]
  },
  {
   "cell_type": "code",
   "execution_count": 36,
   "id": "d4c3b042",
   "metadata": {},
   "outputs": [
    {
     "data": {
      "text/plain": [
       "'M'"
      ]
     },
     "execution_count": 36,
     "metadata": {},
     "output_type": "execute_result"
    }
   ],
   "source": [
    "my_string[0]         # 0 for 1st character"
   ]
  },
  {
   "cell_type": "code",
   "execution_count": 37,
   "id": "e698676b",
   "metadata": {},
   "outputs": [
    {
     "data": {
      "text/plain": [
       "'y'"
      ]
     },
     "execution_count": 37,
     "metadata": {},
     "output_type": "execute_result"
    }
   ],
   "source": [
    "my_string[1]"
   ]
  },
  {
   "cell_type": "code",
   "execution_count": 38,
   "id": "fbcfbf21",
   "metadata": {},
   "outputs": [
    {
     "data": {
      "text/plain": [
       "' '"
      ]
     },
     "execution_count": 38,
     "metadata": {},
     "output_type": "execute_result"
    }
   ],
   "source": [
    "my_string[2]"
   ]
  },
  {
   "cell_type": "code",
   "execution_count": 39,
   "id": "2b96a534",
   "metadata": {},
   "outputs": [
    {
     "data": {
      "text/plain": [
       "'n'"
      ]
     },
     "execution_count": 39,
     "metadata": {},
     "output_type": "execute_result"
    }
   ],
   "source": [
    "my_string[-1]        # -1 for last character"
   ]
  },
  {
   "cell_type": "code",
   "execution_count": 40,
   "id": "2594bb56",
   "metadata": {},
   "outputs": [
    {
     "data": {
      "text/plain": [
       "'h'"
      ]
     },
     "execution_count": 40,
     "metadata": {},
     "output_type": "execute_result"
    }
   ],
   "source": [
    "my_string[-2]         # -2 for second last character"
   ]
  },
  {
   "cell_type": "code",
   "execution_count": 3,
   "id": "0efe3265",
   "metadata": {},
   "outputs": [
    {
     "data": {
      "text/plain": [
       "'me is joh'"
      ]
     },
     "execution_count": 3,
     "metadata": {},
     "output_type": "execute_result"
    }
   ],
   "source": [
    "my_string[5:14]         # if we want upto 'h' then write 14 because last value is not inclusive in python"
   ]
  },
  {
   "cell_type": "code",
   "execution_count": 4,
   "id": "5b0d175e",
   "metadata": {},
   "outputs": [
    {
     "data": {
      "text/plain": [
       "'e is '"
      ]
     },
     "execution_count": 4,
     "metadata": {},
     "output_type": "execute_result"
    }
   ],
   "source": [
    "my_string[6:11]"
   ]
  },
  {
   "cell_type": "markdown",
   "id": "f8eab427",
   "metadata": {},
   "source": [
    "some string functions"
   ]
  },
  {
   "cell_type": "code",
   "execution_count": 5,
   "id": "e4e20924",
   "metadata": {},
   "outputs": [
    {
     "data": {
      "text/plain": [
       "15"
      ]
     },
     "execution_count": 5,
     "metadata": {},
     "output_type": "execute_result"
    }
   ],
   "source": [
    "len(my_string)     # finding length of string"
   ]
  },
  {
   "cell_type": "code",
   "execution_count": 9,
   "id": "57c09424",
   "metadata": {},
   "outputs": [
    {
     "data": {
      "text/plain": [
       "'my name is john'"
      ]
     },
     "execution_count": 9,
     "metadata": {},
     "output_type": "execute_result"
    }
   ],
   "source": [
    "my_string.lower()    # converting string to lower case by adding \".lower()\""
   ]
  },
  {
   "cell_type": "code",
   "execution_count": 7,
   "id": "df716a10",
   "metadata": {},
   "outputs": [
    {
     "data": {
      "text/plain": [
       "'MY NAME IS JOHN'"
      ]
     },
     "execution_count": 7,
     "metadata": {},
     "output_type": "execute_result"
    }
   ],
   "source": [
    "my_string.upper()   # converting string to upper case by adding \".upper()\""
   ]
  },
  {
   "cell_type": "code",
   "execution_count": 10,
   "id": "699817e1",
   "metadata": {},
   "outputs": [
    {
     "data": {
      "text/plain": [
       "'My name is john'"
      ]
     },
     "execution_count": 10,
     "metadata": {},
     "output_type": "execute_result"
    }
   ],
   "source": [
    "my_string"
   ]
  },
  {
   "cell_type": "code",
   "execution_count": 11,
   "id": "52fa33e4",
   "metadata": {},
   "outputs": [
    {
     "data": {
      "text/plain": [
       "'Ma name is john'"
      ]
     },
     "execution_count": 11,
     "metadata": {},
     "output_type": "execute_result"
    }
   ],
   "source": [
    "my_string.replace('y','a')     # \".replace()\" is used for relacing any character in string"
   ]
  },
  {
   "cell_type": "code",
   "execution_count": 12,
   "id": "4d553cb9",
   "metadata": {},
   "outputs": [
    {
     "data": {
      "text/plain": [
       "'My pame is johp'"
      ]
     },
     "execution_count": 12,
     "metadata": {},
     "output_type": "execute_result"
    }
   ],
   "source": [
    "my_string.replace('n','p')"
   ]
  },
  {
   "cell_type": "code",
   "execution_count": 13,
   "id": "d110da6b",
   "metadata": {},
   "outputs": [],
   "source": [
    "new_string = \"hello world hello\""
   ]
  },
  {
   "cell_type": "code",
   "execution_count": 14,
   "id": "b66dc48f",
   "metadata": {},
   "outputs": [
    {
     "data": {
      "text/plain": [
       "2"
      ]
     },
     "execution_count": 14,
     "metadata": {},
     "output_type": "execute_result"
    }
   ],
   "source": [
    "new_string.count(\"hello\")          # finding no. of occurrences of substring / character in string"
   ]
  },
  {
   "cell_type": "code",
   "execution_count": 15,
   "id": "7c9a0c5b",
   "metadata": {},
   "outputs": [
    {
     "data": {
      "text/plain": [
       "5"
      ]
     },
     "execution_count": 15,
     "metadata": {},
     "output_type": "execute_result"
    }
   ],
   "source": [
    "new_string.count(\"l\")"
   ]
  },
  {
   "cell_type": "code",
   "execution_count": 16,
   "id": "6a9044da",
   "metadata": {},
   "outputs": [],
   "source": [
    "s1 = \"i love you very much!!!\""
   ]
  },
  {
   "cell_type": "code",
   "execution_count": 17,
   "id": "95d6787a",
   "metadata": {},
   "outputs": [
    {
     "data": {
      "text/plain": [
       "7"
      ]
     },
     "execution_count": 17,
     "metadata": {},
     "output_type": "execute_result"
    }
   ],
   "source": [
    "s1.find(\"you\")             # find the index of substring of 1st character of given substring"
   ]
  },
  {
   "cell_type": "code",
   "execution_count": 18,
   "id": "e380f6a8",
   "metadata": {},
   "outputs": [
    {
     "data": {
      "text/plain": [
       "16"
      ]
     },
     "execution_count": 18,
     "metadata": {},
     "output_type": "execute_result"
    }
   ],
   "source": [
    "s1.find(\"much\")"
   ]
  },
  {
   "cell_type": "code",
   "execution_count": 19,
   "id": "f8afa28d",
   "metadata": {},
   "outputs": [
    {
     "data": {
      "text/plain": [
       "12"
      ]
     },
     "execution_count": 19,
     "metadata": {},
     "output_type": "execute_result"
    }
   ],
   "source": [
    "s1.find(\"ery\")     # find the index of any character in string"
   ]
  },
  {
   "cell_type": "code",
   "execution_count": 20,
   "id": "a611d2de",
   "metadata": {},
   "outputs": [
    {
     "data": {
      "text/plain": [
       "17"
      ]
     },
     "execution_count": 20,
     "metadata": {},
     "output_type": "execute_result"
    }
   ],
   "source": [
    "s1.find(\"uch\")"
   ]
  },
  {
   "cell_type": "code",
   "execution_count": 21,
   "id": "6f289cec",
   "metadata": {},
   "outputs": [
    {
     "data": {
      "text/plain": [
       "4"
      ]
     },
     "execution_count": 21,
     "metadata": {},
     "output_type": "execute_result"
    }
   ],
   "source": [
    "s1.find(\"v\")"
   ]
  },
  {
   "cell_type": "code",
   "execution_count": 22,
   "id": "559462ed",
   "metadata": {},
   "outputs": [
    {
     "data": {
      "text/plain": [
       "5"
      ]
     },
     "execution_count": 22,
     "metadata": {},
     "output_type": "execute_result"
    }
   ],
   "source": [
    "s1.find('e')"
   ]
  },
  {
   "cell_type": "code",
   "execution_count": 30,
   "id": "41394ef9",
   "metadata": {},
   "outputs": [],
   "source": [
    "fruit = 'i like apple,mango,banana. wauu!! i like too'"
   ]
  },
  {
   "cell_type": "code",
   "execution_count": 31,
   "id": "aecfbe49",
   "metadata": {},
   "outputs": [
    {
     "data": {
      "text/plain": [
       "['i like apple', 'mango', 'banana. wauu!! i like too']"
      ]
     },
     "execution_count": 31,
     "metadata": {},
     "output_type": "execute_result"
    }
   ],
   "source": [
    "fruit.split(',')                      # \".split\" used for splitting a string by giving command"
   ]
  },
  {
   "cell_type": "code",
   "execution_count": 32,
   "id": "f3bd6c12",
   "metadata": {},
   "outputs": [
    {
     "data": {
      "text/plain": [
       "['i like apple,mango,banana', ' wauu!! i like too']"
      ]
     },
     "execution_count": 32,
     "metadata": {},
     "output_type": "execute_result"
    }
   ],
   "source": [
    "fruit.split('.')"
   ]
  },
  {
   "cell_type": "code",
   "execution_count": 33,
   "id": "7b6fc257",
   "metadata": {},
   "outputs": [
    {
     "data": {
      "text/plain": [
       "['i like apple,mango,banana. wauu', ' i like too']"
      ]
     },
     "execution_count": 33,
     "metadata": {},
     "output_type": "execute_result"
    }
   ],
   "source": [
    "fruit.split('!!')"
   ]
  },
  {
   "cell_type": "code",
   "execution_count": 37,
   "id": "8b6b6709",
   "metadata": {},
   "outputs": [
    {
     "data": {
      "text/plain": [
       "['i lik', ' appl', ',mango,banana. wauu!! i lik', ' too']"
      ]
     },
     "execution_count": 37,
     "metadata": {},
     "output_type": "execute_result"
    }
   ],
   "source": [
    "fruit.split('e')"
   ]
  },
  {
   "cell_type": "code",
   "execution_count": 38,
   "id": "1c5884c5",
   "metadata": {},
   "outputs": [
    {
     "data": {
      "text/plain": [
       "['i like ', 'pple,m', 'ngo,b', 'n', 'n', '. w', 'uu!! i like too']"
      ]
     },
     "execution_count": 38,
     "metadata": {},
     "output_type": "execute_result"
    }
   ],
   "source": [
    "fruit.split('a')"
   ]
  },
  {
   "cell_type": "code",
   "execution_count": 35,
   "id": "a5e3b1e7",
   "metadata": {},
   "outputs": [],
   "source": [
    "hobby = \" i like to play cricket. i also like to play chess.i would like read newspaper.\""
   ]
  },
  {
   "cell_type": "code",
   "execution_count": 36,
   "id": "c39dfff3",
   "metadata": {},
   "outputs": [
    {
     "data": {
      "text/plain": [
       "[' i like to play cricket',\n",
       " ' i also like to play chess',\n",
       " 'i would like read newspaper',\n",
       " '']"
      ]
     },
     "execution_count": 36,
     "metadata": {},
     "output_type": "execute_result"
    }
   ],
   "source": [
    "hobby.split('.')"
   ]
  },
  {
   "cell_type": "code",
   "execution_count": null,
   "id": "c524e08e",
   "metadata": {},
   "outputs": [],
   "source": []
  }
 ],
 "metadata": {
  "kernelspec": {
   "display_name": "Python 3 (ipykernel)",
   "language": "python",
   "name": "python3"
  },
  "language_info": {
   "codemirror_mode": {
    "name": "ipython",
    "version": 3
   },
   "file_extension": ".py",
   "mimetype": "text/x-python",
   "name": "python",
   "nbconvert_exporter": "python",
   "pygments_lexer": "ipython3",
   "version": "3.9.7"
  }
 },
 "nbformat": 4,
 "nbformat_minor": 5
}
