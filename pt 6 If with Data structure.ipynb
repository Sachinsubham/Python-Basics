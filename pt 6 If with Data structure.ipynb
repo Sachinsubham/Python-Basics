{
 "cells": [
  {
   "cell_type": "markdown",
   "id": "a667d49e",
   "metadata": {},
   "source": [
    "# \"If\" used with various Data Structure"
   ]
  },
  {
   "cell_type": "code",
   "execution_count": 1,
   "id": "4ab751d9",
   "metadata": {},
   "outputs": [],
   "source": [
    "tup1 = ('a','b','c')                       # Tuple"
   ]
  },
  {
   "cell_type": "code",
   "execution_count": 11,
   "id": "f39c6852",
   "metadata": {},
   "outputs": [
    {
     "name": "stdout",
     "output_type": "stream",
     "text": [
      "value is present\n"
     ]
    }
   ],
   "source": [
    "if 'a' in tup1:\n",
    "    print('value is present')\n",
    "else:\n",
    "    print('value is not present')"
   ]
  },
  {
   "cell_type": "code",
   "execution_count": 25,
   "id": "f1b0ee14",
   "metadata": {},
   "outputs": [
    {
     "data": {
      "text/plain": [
       "['p', 'q', 'r']"
      ]
     },
     "execution_count": 25,
     "metadata": {},
     "output_type": "execute_result"
    }
   ],
   "source": [
    "l1 = ['p','q','r']\n",
    "l1                                       # List"
   ]
  },
  {
   "cell_type": "code",
   "execution_count": 26,
   "id": "901b7b6a",
   "metadata": {},
   "outputs": [],
   "source": [
    "if l1[1] == 'q':\n",
    "    l1[1] = 'z'"
   ]
  },
  {
   "cell_type": "code",
   "execution_count": 27,
   "id": "bfb39e17",
   "metadata": {},
   "outputs": [
    {
     "data": {
      "text/plain": [
       "['p', 'z', 'r']"
      ]
     },
     "execution_count": 27,
     "metadata": {},
     "output_type": "execute_result"
    }
   ],
   "source": [
    "l1"
   ]
  },
  {
   "cell_type": "code",
   "execution_count": 1,
   "id": "96b91d8f",
   "metadata": {},
   "outputs": [
    {
     "data": {
      "text/plain": [
       "{'k1': 10, 'k2': 20, 'k3': 30}"
      ]
     },
     "execution_count": 1,
     "metadata": {},
     "output_type": "execute_result"
    }
   ],
   "source": [
    "d1 = {'k1':10, 'k2': 20, 'k3':30}\n",
    "d1"
   ]
  },
  {
   "cell_type": "code",
   "execution_count": 5,
   "id": "92d64e03",
   "metadata": {},
   "outputs": [],
   "source": [
    "if d1['k3'] == 30:\n",
    "    d1['k3'] = d1['k3']+100"
   ]
  },
  {
   "cell_type": "code",
   "execution_count": 9,
   "id": "98306786",
   "metadata": {},
   "outputs": [
    {
     "data": {
      "text/plain": [
       "{'k1': 10, 'k2': 20, 'k3': 130}"
      ]
     },
     "execution_count": 9,
     "metadata": {},
     "output_type": "execute_result"
    }
   ],
   "source": [
    "d1"
   ]
  },
  {
   "cell_type": "code",
   "execution_count": null,
   "id": "0d4dad6f",
   "metadata": {},
   "outputs": [],
   "source": [
    "n = int(input(\"Enter a number:\"))\n",
    "i=n+2\n",
    "if n > 0 & n % 2 == 0:\n",
    "    print (\"Even number\")\n",
    "    while i<=n+8:\n",
    "        print (i)"
   ]
  },
  {
   "cell_type": "markdown",
   "id": "93738f5f",
   "metadata": {},
   "source": [
    "# Loop"
   ]
  },
  {
   "cell_type": "code",
   "execution_count": 8,
   "id": "683725be",
   "metadata": {},
   "outputs": [
    {
     "name": "stdout",
     "output_type": "stream",
     "text": [
      "2  *  1  =  2\n",
      "2  *  2  =  4\n",
      "2  *  3  =  6\n",
      "2  *  4  =  8\n",
      "2  *  5  =  10\n",
      "2  *  6  =  12\n",
      "2  *  7  =  14\n",
      "2  *  8  =  16\n",
      "2  *  9  =  18\n",
      "2  *  10  =  20\n"
     ]
    }
   ],
   "source": [
    "# To print the table of 2\n",
    "\n",
    "i =1\n",
    "n=2\n",
    "while i <=10:\n",
    "    print(n,\" * \",i, \" = \", n*i)\n",
    "    i = i+1\n",
    "  "
   ]
  },
  {
   "cell_type": "code",
   "execution_count": null,
   "id": "5a87b4d5",
   "metadata": {},
   "outputs": [],
   "source": [
    "n = 10\n",
    "i = 1\n",
    "while (i<n):\n",
    "    if i % 9 == 0:\n",
    "        print(\"inside if\")\n",
    "    else:\n",
    "        print(\"inside else\")\n",
    "        i = i + 1\n",
    "print(\"done\") "
   ]
  },
  {
   "cell_type": "markdown",
   "id": "d4655792",
   "metadata": {},
   "source": []
  }
 ],
 "metadata": {
  "kernelspec": {
   "display_name": "Python 3 (ipykernel)",
   "language": "python",
   "name": "python3"
  },
  "language_info": {
   "codemirror_mode": {
    "name": "ipython",
    "version": 3
   },
   "file_extension": ".py",
   "mimetype": "text/x-python",
   "name": "python",
   "nbconvert_exporter": "python",
   "pygments_lexer": "ipython3",
   "version": "3.9.7"
  }
 },
 "nbformat": 4,
 "nbformat_minor": 5
}
