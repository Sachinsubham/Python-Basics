{
 "cells": [
  {
   "cell_type": "markdown",
   "id": "d57c41fe",
   "metadata": {},
   "source": [
    "# uses of \"if\" statement - Descision making statement"
   ]
  },
  {
   "cell_type": "code",
   "execution_count": 3,
   "id": "bddda312",
   "metadata": {},
   "outputs": [
    {
     "name": "stdout",
     "output_type": "stream",
     "text": [
      "12\n",
      "7\n",
      "12\n",
      "i am still inside the if condition\n",
      "i am outside the if condition\n"
     ]
    }
   ],
   "source": [
    "a = int(input())\n",
    "b = int(input())\n",
    "if a>b:\n",
    "    print(a)\n",
    "    print(\"i am still inside the if condition\")  # this and above line is only print if \"if\" condition is true\n",
    "print(\"i am outside the if condition\")    # this line always print either \"if\" condition is true or not"
   ]
  },
  {
   "cell_type": "code",
   "execution_count": 28,
   "id": "c6c21c9c",
   "metadata": {},
   "outputs": [
    {
     "name": "stdout",
     "output_type": "stream",
     "text": [
      "15\n",
      "12\n",
      "15\n"
     ]
    }
   ],
   "source": [
    "a = int(input())   # print which one is graeter in a and b.(1st method)\n",
    "b = int(input())\n",
    "if a>b:\n",
    "    print(a)\n",
    "else:\n",
    "    print(b)"
   ]
  },
  {
   "cell_type": "code",
   "execution_count": 9,
   "id": "9c4778b5",
   "metadata": {},
   "outputs": [
    {
     "name": "stdout",
     "output_type": "stream",
     "text": [
      "12\n",
      "7\n",
      "12\n"
     ]
    }
   ],
   "source": [
    "a = int(input())    # print which one is graeter in a and b.(2nd method)\n",
    "b = int(input())\n",
    "if a>b:\n",
    "    print(a)\n",
    "if b>a:\n",
    "    print(b)"
   ]
  },
  {
   "cell_type": "code",
   "execution_count": 25,
   "id": "23b63353",
   "metadata": {},
   "outputs": [
    {
     "name": "stdout",
     "output_type": "stream",
     "text": [
      "b is greater than a\n"
     ]
    }
   ],
   "source": [
    "a = 25\n",
    "b = 30      \n",
    "if a>b:\n",
    "    print(a)\n",
    "elif a==b:                       # \"elseif(elif)\" used when more no.of check are required\n",
    "    print(\"a and b equal\")\n",
    "else:\n",
    "    print(\"b is greater than a\")"
   ]
  },
  {
   "cell_type": "code",
   "execution_count": 6,
   "id": "27084e2e",
   "metadata": {},
   "outputs": [
    {
     "name": "stdout",
     "output_type": "stream",
     "text": [
      "Enter marks :84\n",
      "A- Grade\n"
     ]
    }
   ],
   "source": [
    "# uses of elif\n",
    "\n",
    "a = int(input(\"Enter marks :\"))\n",
    "if a >= 85 :\n",
    "    print(\"A Grade\")\n",
    "elif (a < 85) and (a >= 80):\n",
    "    print (\"A- Grade\")\n",
    "elif (a < 80) and (a >= 75):\n",
    "    print(\"B Grade\")\n",
    "elif (a < 75) and (a >= 70):\n",
    "    print (\"B- Grade\")\n",
    "else:\n",
    "    print(\"Average Grade\")"
   ]
  },
  {
   "cell_type": "code",
   "execution_count": 11,
   "id": "62f391f1",
   "metadata": {},
   "outputs": [
    {
     "name": "stdout",
     "output_type": "stream",
     "text": [
      "enter value of a :12\n",
      ">10\n"
     ]
    }
   ],
   "source": [
    "# use of \"elif\" without uses \"else\"\n",
    "\n",
    "a = int(input(\"enter value of a :\"))\n",
    "if a > 10:\n",
    "    print(\">10\")\n",
    "elif not(a > 10):\n",
    "    print(\"Else part\")"
   ]
  },
  {
   "cell_type": "markdown",
   "id": "0e4a4304",
   "metadata": {},
   "source": [
    "Nested if : -  if condition is used inside the if condition"
   ]
  },
  {
   "cell_type": "code",
   "execution_count": 30,
   "id": "c9a88789",
   "metadata": {},
   "outputs": [
    {
     "name": "stdout",
     "output_type": "stream",
     "text": [
      "Enter value of a :12\n",
      ">10\n",
      "inside the top if\n",
      "<=20\n",
      "Inside the else part of nested if\n"
     ]
    }
   ],
   "source": [
    "# Ex:-(1)\n",
    "\n",
    "a = int(input(\"Enter value of a :\"))\n",
    "if a > 10:\n",
    "    print(\">10\")\n",
    "    print (\"inside the top if\")\n",
    "    if a > 20:                # this if is called nested if\n",
    "        print(\">20\")\n",
    "        print(\"inside the nested if\")\n",
    "    else :\n",
    "        print(\"<=20\")\n",
    "        print(\"Inside the else part of nested if\")\n",
    "else:\n",
    "    print(\"outside all ifs\")"
   ]
  },
  {
   "cell_type": "code",
   "execution_count": 33,
   "id": "7864bf87",
   "metadata": {},
   "outputs": [
    {
     "name": "stdout",
     "output_type": "stream",
     "text": [
      "Enter value of a :28\n",
      ">10\n",
      "inside the top if\n",
      ">20\n",
      "inside the nested if\n",
      "<=30\n",
      "inside the else part of nested if of nested if\n"
     ]
    }
   ],
   "source": [
    "# Ex:-(2)\n",
    "\n",
    "a = int(input(\"Enter value of a :\"))\n",
    "if a > 10:\n",
    "    print(\">10\")\n",
    "    print (\"inside the top if\")\n",
    "    if a > 20:                # this if is called nested if\n",
    "        print(\">20\")\n",
    "        print(\"inside the nested if\")\n",
    "        if a > 30:            # this if is called nested if of nested if\n",
    "            print(\">30\")\n",
    "            print(\"inside the nested if of nested if\")\n",
    "        else:\n",
    "            print(\"<=30\")\n",
    "            print(\"inside the else part of nested if of nested if\")\n",
    "    else :\n",
    "        print(\"<=20\")\n",
    "        print(\"Inside the else part of nested if\")\n",
    "else:\n",
    "    print(\"outside all ifs\")"
   ]
  },
  {
   "cell_type": "markdown",
   "id": "05674f4c",
   "metadata": {},
   "source": [
    "Indentation : - it indicates the code of a block. It is very important role in python than other languages.   \n",
    "    To indicate a block of code in Python, you must indent each line of the block by the same amount.    \n",
    "         The two blocks of code in our example if-statement are both indented four spaces, which is a typical amount of indentation for Python.       \n",
    "              Ex- if we use if - else condition then indentation is important."
   ]
  },
  {
   "cell_type": "code",
   "execution_count": 12,
   "id": "2828aaac",
   "metadata": {},
   "outputs": [
    {
     "name": "stdout",
     "output_type": "stream",
     "text": [
      "Enter a real number :-11.6\n",
      "Odd\n"
     ]
    }
   ],
   "source": [
    "# Ex - (3)\n",
    "'''user will enter a floating point number let say 236.345. your task is to find out the integer portion before \n",
    "the point (in this case 236) and then check if that integer portion is an even or not ?'''\n",
    "\n",
    "x = float(input(\"Enter a real number :\"))\n",
    "y = round(x)\n",
    "if x>0:\n",
    "    if y>x:\n",
    "        intportion = y-1    # ex- 29.6\n",
    "    else:\n",
    "        intportion = y\n",
    "else:                      # when x<0\n",
    "    if y<x:\n",
    "        intportion = y+1   # -23.8\n",
    "    else:\n",
    "        intportion = y                # this print the inerger portion from floating point number upto this code from top.\n",
    "if intportion % 2 == 0:          # from here print even or odd.\n",
    "    print(\"Even\")\n",
    "else:\n",
    "    print(\"Odd\")\n",
    "    \n"
   ]
  },
  {
   "cell_type": "markdown",
   "id": "85d9ef1f",
   "metadata": {},
   "source": [
    "# loops - "
   ]
  },
  {
   "cell_type": "markdown",
   "id": "c6a53d9b",
   "metadata": {},
   "source": [
    "loop is used when repetitve tasks has to perform again and again."
   ]
  },
  {
   "cell_type": "code",
   "execution_count": 2,
   "id": "7c3132f8",
   "metadata": {},
   "outputs": [
    {
     "name": "stdout",
     "output_type": "stream",
     "text": [
      "Enter maximum iterations :10\n",
      "1\n",
      "2\n",
      "3\n",
      "4\n",
      "5\n",
      "6\n",
      "7\n",
      "8\n",
      "9\n",
      "iteration done\n"
     ]
    }
   ],
   "source": [
    "# Ex- we have to print n value when user enters the value of n.\n",
    "\n",
    "n = int(input(\"Enter maximum iterations :\"))\n",
    "i = 1\n",
    "while(i<n):\n",
    "    print(i)\n",
    "    i += 1    # i = i+1\n",
    "print(\"iteration done\")"
   ]
  },
  {
   "cell_type": "code",
   "execution_count": 9,
   "id": "a75fb504",
   "metadata": {},
   "outputs": [
    {
     "name": "stdout",
     "output_type": "stream",
     "text": [
      "Enter maximum iterations :5\n",
      "1\n",
      "This is iteration number : 1\n",
      "4\n",
      "This is iteration number : 2\n",
      "9\n",
      "This is iteration number : 3\n",
      "16\n",
      "This is iteration number : 4\n",
      "iteration done\n"
     ]
    }
   ],
   "source": [
    "# Ex- we have to print n^2 value when user enters the value of n.\n",
    "\n",
    "n = int (input(\"Enter maximum iterations :\"))\n",
    "i= 1\n",
    "while(i<n):\n",
    "    print(i**2)\n",
    "    print(\"This is iteration number :\",i)\n",
    "    i = i + 1   # i += 1\n",
    "print(\"iteration done\")                                "
   ]
  },
  {
   "cell_type": "code",
   "execution_count": 17,
   "id": "74851ac1",
   "metadata": {},
   "outputs": [
    {
     "name": "stdout",
     "output_type": "stream",
     "text": [
      " enter maximum iteration :5\n",
      "2\n",
      "4\n",
      "these are even number\n"
     ]
    }
   ],
   "source": [
    "n = int(input(\" enter maximum iteration :\"))\n",
    "i = 1\n",
    "while(i<n):\n",
    "    if (i % 2 == 0):\n",
    "        print(i)\n",
    "    else:\n",
    "        pass    # pass means do nothing\n",
    "    i = i +1\n",
    "print(\"these are even number\")"
   ]
  },
  {
   "cell_type": "markdown",
   "id": "7ff49ff5",
   "metadata": {},
   "source": [
    "break - wherever break written inside the body of the loop tells that exit the loop immediately and brings you outside the loop.    \n",
    "      continue  - whenever continue execute , it skips the remaining body of the loop and starts the another iteration immediately.\n",
    "     "
   ]
  },
  {
   "cell_type": "code",
   "execution_count": 20,
   "id": "0ae9e123",
   "metadata": {},
   "outputs": [
    {
     "name": "stdout",
     "output_type": "stream",
     "text": [
      "inside else\n",
      "inside else\n",
      "inside else\n",
      "inside else\n",
      "inside else\n",
      "inside else\n",
      "inside else\n",
      "inside else\n",
      "inside if\n",
      "done\n"
     ]
    }
   ],
   "source": [
    "# \n",
    "\n",
    "n = 10\n",
    "i = 1\n",
    "while True:                         # while True means alwys run and go inside the loop (infinite loop) \n",
    "    if i % 9 == 0:\n",
    "        print(\"inside if\")\n",
    "        break                      # but whenever once this break is encountered you outside the loop immediately\n",
    "    else:\n",
    "        print(\"inside else\")\n",
    "        i = i + 1\n",
    "print(\"done\")\n",
    "    "
   ]
  },
  {
   "cell_type": "code",
   "execution_count": 25,
   "id": "268a5078",
   "metadata": {},
   "outputs": [
    {
     "name": "stdout",
     "output_type": "stream",
     "text": [
      "4\n",
      "inside else\n",
      "inside if\n",
      "done\n"
     ]
    }
   ],
   "source": [
    "n = int(input())\n",
    "i = 1\n",
    "while True:                         # while True means alwys run and go inside the loop (infinite loop) \n",
    "    if i % 2 == 0:\n",
    "        print(\"inside if\")\n",
    "        break\n",
    "    else:\n",
    "        print(\"inside else\")\n",
    "        i = i + 1\n",
    "print(\"done\")"
   ]
  }
 ],
 "metadata": {
  "kernelspec": {
   "display_name": "Python 3 (ipykernel)",
   "language": "python",
   "name": "python3"
  },
  "language_info": {
   "codemirror_mode": {
    "name": "ipython",
    "version": 3
   },
   "file_extension": ".py",
   "mimetype": "text/x-python",
   "name": "python",
   "nbconvert_exporter": "python",
   "pygments_lexer": "ipython3",
   "version": "3.9.7"
  }
 },
 "nbformat": 4,
 "nbformat_minor": 5
}
