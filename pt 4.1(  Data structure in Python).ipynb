{
 "cells": [
  {
   "cell_type": "markdown",
   "id": "13384bf4",
   "metadata": {},
   "source": [
    "# Tuple in Python"
   ]
  },
  {
   "cell_type": "markdown",
   "id": "e6399287",
   "metadata": {},
   "source": [
    "Tuple is an ordered collection of elements enclosed within(). It stored different types of elements.\n",
    "Tuples are immutable ( means not change in given input inside the tuple).\n"
   ]
  },
  {
   "cell_type": "code",
   "execution_count": 10,
   "id": "27638965",
   "metadata": {},
   "outputs": [
    {
     "data": {
      "text/plain": [
       "(1, 3.4, 'a', True, (4-2j))"
      ]
     },
     "execution_count": 10,
     "metadata": {},
     "output_type": "execute_result"
    }
   ],
   "source": [
    "tup1=(1,3.4,\"a\",True,4-2j)\n",
    "tup1"
   ]
  },
  {
   "cell_type": "code",
   "execution_count": 11,
   "id": "7a5ece3c",
   "metadata": {},
   "outputs": [
    {
     "data": {
      "text/plain": [
       "tuple"
      ]
     },
     "execution_count": 11,
     "metadata": {},
     "output_type": "execute_result"
    }
   ],
   "source": [
    "type(tup1)"
   ]
  },
  {
   "cell_type": "code",
   "execution_count": 15,
   "id": "ad6b304f",
   "metadata": {},
   "outputs": [
    {
     "data": {
      "text/plain": [
       "1"
      ]
     },
     "execution_count": 15,
     "metadata": {},
     "output_type": "execute_result"
    }
   ],
   "source": [
    "tup1[0]          # Extracting individual elements from tuple"
   ]
  },
  {
   "cell_type": "code",
   "execution_count": 18,
   "id": "3dd6756b",
   "metadata": {},
   "outputs": [
    {
     "data": {
      "text/plain": [
       "(4-2j)"
      ]
     },
     "execution_count": 18,
     "metadata": {},
     "output_type": "execute_result"
    }
   ],
   "source": [
    "tup1[-1]      "
   ]
  },
  {
   "cell_type": "code",
   "execution_count": 20,
   "id": "b2ba3137",
   "metadata": {},
   "outputs": [
    {
     "data": {
      "text/plain": [
       "(3.4, 'a')"
      ]
     },
     "execution_count": 20,
     "metadata": {},
     "output_type": "execute_result"
    }
   ],
   "source": [
    "tup1[1:3]          "
   ]
  },
  {
   "cell_type": "code",
   "execution_count": 23,
   "id": "8aa3fc5e",
   "metadata": {},
   "outputs": [
    {
     "data": {
      "text/plain": [
       "(1, 3.4)"
      ]
     },
     "execution_count": 23,
     "metadata": {},
     "output_type": "execute_result"
    }
   ],
   "source": [
    "tup1[0:2]"
   ]
  },
  {
   "cell_type": "code",
   "execution_count": 29,
   "id": "6973f8d0",
   "metadata": {},
   "outputs": [
    {
     "data": {
      "text/plain": [
       "5"
      ]
     },
     "execution_count": 29,
     "metadata": {},
     "output_type": "execute_result"
    }
   ],
   "source": [
    "len(tup1)"
   ]
  },
  {
   "cell_type": "code",
   "execution_count": 31,
   "id": "46e195fb",
   "metadata": {},
   "outputs": [],
   "source": [
    "tup2 =(3,\"b\",4)"
   ]
  },
  {
   "cell_type": "code",
   "execution_count": 32,
   "id": "6ebd8ef3",
   "metadata": {},
   "outputs": [
    {
     "data": {
      "text/plain": [
       "(1, 3.4, 'a', True, (4-2j), 3, 'b', 4)"
      ]
     },
     "execution_count": 32,
     "metadata": {},
     "output_type": "execute_result"
    }
   ],
   "source": [
    "tup1+tup2      # merging two tuple function or concatenating Tuple"
   ]
  },
  {
   "cell_type": "code",
   "execution_count": 34,
   "id": "018c4ac4",
   "metadata": {},
   "outputs": [
    {
     "data": {
      "text/plain": [
       "((1, 3.4, 'a', True, (4-2j)), (3, 'b', 4))"
      ]
     },
     "execution_count": 34,
     "metadata": {},
     "output_type": "execute_result"
    }
   ],
   "source": [
    "tup1,tup2 "
   ]
  },
  {
   "cell_type": "code",
   "execution_count": 39,
   "id": "7c578971",
   "metadata": {},
   "outputs": [
    {
     "data": {
      "text/plain": [
       "(3, 'b', 4, 1, 3.4, 'a', True, (4-2j))"
      ]
     },
     "execution_count": 39,
     "metadata": {},
     "output_type": "execute_result"
    }
   ],
   "source": [
    "tup2+tup1     "
   ]
  },
  {
   "cell_type": "code",
   "execution_count": 46,
   "id": "69817d4a",
   "metadata": {},
   "outputs": [],
   "source": [
    "tupA = ('sparta',300)"
   ]
  },
  {
   "cell_type": "code",
   "execution_count": 47,
   "id": "030e0bfe",
   "metadata": {},
   "outputs": [
    {
     "data": {
      "text/plain": [
       "('sparta', 300, 'sparta', 300, 'sparta', 300)"
      ]
     },
     "execution_count": 47,
     "metadata": {},
     "output_type": "execute_result"
    }
   ],
   "source": [
    "tupA*3                                     # Repeating of tuple elements"
   ]
  },
  {
   "cell_type": "code",
   "execution_count": 48,
   "id": "0d296166",
   "metadata": {},
   "outputs": [
    {
     "data": {
      "text/plain": [
       "('sparta', 300, 'sparta', 300, 'sparta', 300, 3, 'b', 4)"
      ]
     },
     "execution_count": 48,
     "metadata": {},
     "output_type": "execute_result"
    }
   ],
   "source": [
    "tupA*3 + tup2"
   ]
  },
  {
   "cell_type": "code",
   "execution_count": 51,
   "id": "5022073f",
   "metadata": {},
   "outputs": [],
   "source": [
    "tupB = (3,4,5,6)"
   ]
  },
  {
   "cell_type": "code",
   "execution_count": 53,
   "id": "7419ad3f",
   "metadata": {},
   "outputs": [
    {
     "data": {
      "text/plain": [
       "3"
      ]
     },
     "execution_count": 53,
     "metadata": {},
     "output_type": "execute_result"
    }
   ],
   "source": [
    "min(tupB)           # finding minimum value"
   ]
  },
  {
   "cell_type": "code",
   "execution_count": 54,
   "id": "6628ac01",
   "metadata": {},
   "outputs": [
    {
     "data": {
      "text/plain": [
       "6"
      ]
     },
     "execution_count": 54,
     "metadata": {},
     "output_type": "execute_result"
    }
   ],
   "source": [
    "max(tupB)           # finding maximum value"
   ]
  },
  {
   "cell_type": "markdown",
   "id": "de9217bc",
   "metadata": {},
   "source": [
    "# List in Python"
   ]
  },
  {
   "cell_type": "markdown",
   "id": "0faf30b4",
   "metadata": {},
   "source": [
    "List is an ordered collection of elements enclosed within []. \n",
    "Lists  are mutable. It allows the duplicates value."
   ]
  },
  {
   "cell_type": "code",
   "execution_count": 5,
   "id": "06a813d7",
   "metadata": {},
   "outputs": [
    {
     "data": {
      "text/plain": [
       "[2, 3.14, 'a', False]"
      ]
     },
     "execution_count": 5,
     "metadata": {},
     "output_type": "execute_result"
    }
   ],
   "source": [
    "lis1 = [2,3.14,'a',False]\n",
    "lis1"
   ]
  },
  {
   "cell_type": "code",
   "execution_count": 58,
   "id": "2f3fc3c4",
   "metadata": {},
   "outputs": [
    {
     "data": {
      "text/plain": [
       "list"
      ]
     },
     "execution_count": 58,
     "metadata": {},
     "output_type": "execute_result"
    }
   ],
   "source": [
    "type(lis1)"
   ]
  },
  {
   "cell_type": "code",
   "execution_count": 59,
   "id": "dd8ee166",
   "metadata": {},
   "outputs": [
    {
     "data": {
      "text/plain": [
       "'a'"
      ]
     },
     "execution_count": 59,
     "metadata": {},
     "output_type": "execute_result"
    }
   ],
   "source": [
    "lis1[2]"
   ]
  },
  {
   "cell_type": "code",
   "execution_count": 7,
   "id": "63368b22",
   "metadata": {},
   "outputs": [
    {
     "data": {
      "text/plain": [
       "False"
      ]
     },
     "execution_count": 7,
     "metadata": {},
     "output_type": "execute_result"
    }
   ],
   "source": [
    "lis1[-1]"
   ]
  },
  {
   "cell_type": "code",
   "execution_count": 60,
   "id": "72f68b81",
   "metadata": {},
   "outputs": [
    {
     "data": {
      "text/plain": [
       "[3.14, 'a', False]"
      ]
     },
     "execution_count": 60,
     "metadata": {},
     "output_type": "execute_result"
    }
   ],
   "source": [
    "lis1[1:4]"
   ]
  },
  {
   "cell_type": "code",
   "execution_count": 6,
   "id": "f22592cc",
   "metadata": {},
   "outputs": [
    {
     "data": {
      "text/plain": [
       "[False, 'a', 3.14, 2]"
      ]
     },
     "execution_count": 6,
     "metadata": {},
     "output_type": "execute_result"
    }
   ],
   "source": [
    "lis1[::-1]      # Reversing the order"
   ]
  },
  {
   "cell_type": "markdown",
   "id": "95b730e9",
   "metadata": {},
   "source": [
    " Modifying the element in List (because lists are mutable.)"
   ]
  },
  {
   "cell_type": "code",
   "execution_count": 33,
   "id": "64959c52",
   "metadata": {},
   "outputs": [],
   "source": [
    "lis2 = [1,3,'a',6,'b'] \n"
   ]
  },
  {
   "cell_type": "code",
   "execution_count": 34,
   "id": "d351a035",
   "metadata": {},
   "outputs": [
    {
     "data": {
      "text/plain": [
       "[100, 3, 'a', 6, 'b']"
      ]
     },
     "execution_count": 34,
     "metadata": {},
     "output_type": "execute_result"
    }
   ],
   "source": [
    "lis2[0] = 100   # Relacing the 0th index elemnt by 100.\n",
    "lis2"
   ]
  },
  {
   "cell_type": "code",
   "execution_count": 35,
   "id": "955824f7",
   "metadata": {},
   "outputs": [
    {
     "data": {
      "text/plain": [
       "[100, 3, 'a', 6]"
      ]
     },
     "execution_count": 35,
     "metadata": {},
     "output_type": "execute_result"
    }
   ],
   "source": [
    "lis2.pop()      # Popping the last element (means to remove the last elemet)\n",
    "lis2"
   ]
  },
  {
   "cell_type": "code",
   "execution_count": 36,
   "id": "e43198e6",
   "metadata": {},
   "outputs": [
    {
     "data": {
      "text/plain": [
       "[100, 3, 'a', 6, -45.23]"
      ]
     },
     "execution_count": 36,
     "metadata": {},
     "output_type": "execute_result"
    }
   ],
   "source": [
    "lis2.append(-45.23)     # Adding new element in the last\n",
    "lis2"
   ]
  },
  {
   "cell_type": "code",
   "execution_count": 41,
   "id": "5c6a727a",
   "metadata": {},
   "outputs": [
    {
     "data": {
      "text/plain": [
       "['kaler', 55, 'patna', 40, 7.3, 2]"
      ]
     },
     "execution_count": 41,
     "metadata": {},
     "output_type": "execute_result"
    }
   ],
   "source": [
    "l3 = [2,7.3,40,'patna',55,'kaler']           # Reversing the order of element.\n",
    "l3.reverse()\n",
    "l3"
   ]
  },
  {
   "cell_type": "code",
   "execution_count": 42,
   "id": "d32d8d78",
   "metadata": {},
   "outputs": [
    {
     "data": {
      "text/plain": [
       "[3.2, 'kaler', 40, 50, 'patna', 60]"
      ]
     },
     "execution_count": 42,
     "metadata": {},
     "output_type": "execute_result"
    }
   ],
   "source": [
    "l4 = [3.2,40,50,'patna',60]\n",
    "l4.insert(1,'kaler')                         # Inserting new element at the specified index\n",
    "l4"
   ]
  },
  {
   "cell_type": "code",
   "execution_count": 43,
   "id": "58a939a8",
   "metadata": {},
   "outputs": [
    {
     "data": {
      "text/plain": [
       "['apple', 'banana', 'mango', 'orange', 'papaya']"
      ]
     },
     "execution_count": 43,
     "metadata": {},
     "output_type": "execute_result"
    }
   ],
   "source": [
    "l5 = ['banana', 'papaya','orange','apple','mango']       # Sorting the element\n",
    "l5.sort()\n",
    "l5"
   ]
  },
  {
   "cell_type": "code",
   "execution_count": 44,
   "id": "579a2d78",
   "metadata": {},
   "outputs": [
    {
     "data": {
      "text/plain": [
       "[10, 20, 30, 40, 50, 60]"
      ]
     },
     "execution_count": 44,
     "metadata": {},
     "output_type": "execute_result"
    }
   ],
   "source": [
    "l6 = [30,50,40,10,60,20]\n",
    "l6.sort()\n",
    "l6"
   ]
  },
  {
   "cell_type": "code",
   "execution_count": 46,
   "id": "3ee0857e",
   "metadata": {},
   "outputs": [
    {
     "data": {
      "text/plain": [
       "['a', 'b', 'd', 'g', 's']"
      ]
     },
     "execution_count": 46,
     "metadata": {},
     "output_type": "execute_result"
    }
   ],
   "source": [
    "l7 = ['g','b','d','a','s']\n",
    "l7.sort()\n",
    "l7"
   ]
  },
  {
   "cell_type": "code",
   "execution_count": 48,
   "id": "901819df",
   "metadata": {},
   "outputs": [
    {
     "data": {
      "text/plain": [
       "[2, 'd', 3.4, 'a', 1, -3.2]"
      ]
     },
     "execution_count": 48,
     "metadata": {},
     "output_type": "execute_result"
    }
   ],
   "source": [
    "ls1= [2,'d',3.4]                 #concatenating Lists\n",
    "ls2= ['a',1,-3.2]\n",
    "ls1+ls2"
   ]
  },
  {
   "cell_type": "code",
   "execution_count": 49,
   "id": "10c82af4",
   "metadata": {},
   "outputs": [
    {
     "data": {
      "text/plain": [
       "['a', 1, -3.2, 2, 'd', 3.4]"
      ]
     },
     "execution_count": 49,
     "metadata": {},
     "output_type": "execute_result"
    }
   ],
   "source": [
    "ls2+ls1"
   ]
  },
  {
   "cell_type": "code",
   "execution_count": 51,
   "id": "cc2c39b9",
   "metadata": {},
   "outputs": [
    {
     "data": {
      "text/plain": [
       "[1, 2, 3, 1, 2, 3, 1, 2, 3]"
      ]
     },
     "execution_count": 51,
     "metadata": {},
     "output_type": "execute_result"
    }
   ],
   "source": [
    "lt= [1,2,3]                    # Repeating the elements\n",
    "lt*3"
   ]
  },
  {
   "cell_type": "code",
   "execution_count": 8,
   "id": "38b662f4",
   "metadata": {},
   "outputs": [
    {
     "data": {
      "text/plain": [
       "['name', 3, 8.3, 'b']"
      ]
     },
     "execution_count": 8,
     "metadata": {},
     "output_type": "execute_result"
    }
   ],
   "source": [
    "L = ['name',3,8.3,'b']\n",
    "L"
   ]
  },
  {
   "cell_type": "code",
   "execution_count": 9,
   "id": "f3a8b589",
   "metadata": {},
   "outputs": [
    {
     "data": {
      "text/plain": [
       "['name', 3, 'b']"
      ]
     },
     "execution_count": 9,
     "metadata": {},
     "output_type": "execute_result"
    }
   ],
   "source": [
    "del L[2]\n",
    "L"
   ]
  },
  {
   "cell_type": "code",
   "execution_count": 11,
   "id": "d34077f5",
   "metadata": {},
   "outputs": [
    {
     "data": {
      "text/plain": [
       "[7, 2, 9.3, 'how', 6, 'are', 'you']"
      ]
     },
     "execution_count": 11,
     "metadata": {},
     "output_type": "execute_result"
    }
   ],
   "source": [
    "L1 = [7,2,9.3,\"how\",6,\"are\",\"you\"]\n",
    "L1"
   ]
  },
  {
   "cell_type": "code",
   "execution_count": 14,
   "id": "8c323b3d",
   "metadata": {},
   "outputs": [],
   "source": [
    "L2 = L1"
   ]
  },
  {
   "cell_type": "code",
   "execution_count": 15,
   "id": "86d4058b",
   "metadata": {},
   "outputs": [
    {
     "data": {
      "text/plain": [
       "[7, 2, 9.3, 'how', 6, 'are', 'you']"
      ]
     },
     "execution_count": 15,
     "metadata": {},
     "output_type": "execute_result"
    }
   ],
   "source": [
    "L2"
   ]
  },
  {
   "cell_type": "code",
   "execution_count": 16,
   "id": "1bceb224",
   "metadata": {},
   "outputs": [],
   "source": [
    "L2[1] = \"one\""
   ]
  },
  {
   "cell_type": "code",
   "execution_count": 17,
   "id": "0b17563b",
   "metadata": {},
   "outputs": [
    {
     "data": {
      "text/plain": [
       "[7, 'one', 9.3, 'how', 6, 'are', 'you']"
      ]
     },
     "execution_count": 17,
     "metadata": {},
     "output_type": "execute_result"
    }
   ],
   "source": [
    "L2"
   ]
  },
  {
   "cell_type": "code",
   "execution_count": 18,
   "id": "375dbe11",
   "metadata": {},
   "outputs": [
    {
     "data": {
      "text/plain": [
       "[7, 'one', 9.3, 'how', 6, 'are', 'you']"
      ]
     },
     "execution_count": 18,
     "metadata": {},
     "output_type": "execute_result"
    }
   ],
   "source": [
    "L1"
   ]
  },
  {
   "cell_type": "code",
   "execution_count": 19,
   "id": "a32e39c2",
   "metadata": {},
   "outputs": [
    {
     "data": {
      "text/plain": [
       "[1, 10, 3.4, 'my', 0, 'panda']"
      ]
     },
     "execution_count": 19,
     "metadata": {},
     "output_type": "execute_result"
    }
   ],
   "source": [
    "L3 = [1,10,3.4,\"my\",0,\"panda\"]\n",
    "L3"
   ]
  },
  {
   "cell_type": "code",
   "execution_count": 20,
   "id": "8628767d",
   "metadata": {},
   "outputs": [
    {
     "data": {
      "text/plain": [
       "[1, 10, 3.4, 'my', 0, 'panda']"
      ]
     },
     "execution_count": 20,
     "metadata": {},
     "output_type": "execute_result"
    }
   ],
   "source": [
    "L4 = L3.copy()                # Here use \"copy\"function\n",
    "L4"
   ]
  },
  {
   "cell_type": "code",
   "execution_count": 21,
   "id": "4fdda986",
   "metadata": {},
   "outputs": [
    {
     "data": {
      "text/plain": [
       "[1, 10, 'three point four', 'my', 0, 'panda']"
      ]
     },
     "execution_count": 21,
     "metadata": {},
     "output_type": "execute_result"
    }
   ],
   "source": [
    "L4[2]=\"three point four\"\n",
    "L4"
   ]
  },
  {
   "cell_type": "code",
   "execution_count": 23,
   "id": "d76f14f5",
   "metadata": {},
   "outputs": [
    {
     "data": {
      "text/plain": [
       "[1, 10, 3.4, 'my', 0, 'panda']"
      ]
     },
     "execution_count": 23,
     "metadata": {},
     "output_type": "execute_result"
    }
   ],
   "source": [
    "L3                      # Here, elemnts of L3 does n't change by chnaging the elememt of L4 due to \"copy\"function."
   ]
  },
  {
   "cell_type": "code",
   "execution_count": 5,
   "id": "dc011b20",
   "metadata": {},
   "outputs": [],
   "source": [
    "L1= [x for x in range(10)]"
   ]
  },
  {
   "cell_type": "code",
   "execution_count": 6,
   "id": "b9c37516",
   "metadata": {},
   "outputs": [
    {
     "data": {
      "text/plain": [
       "[0, 1, 2, 3, 4, 5, 6, 7, 8, 9]"
      ]
     },
     "execution_count": 6,
     "metadata": {},
     "output_type": "execute_result"
    }
   ],
   "source": [
    "L1"
   ]
  },
  {
   "cell_type": "code",
   "execution_count": 7,
   "id": "0c310d4b",
   "metadata": {},
   "outputs": [],
   "source": [
    "Lsq = [x**2 for x in range(10)]"
   ]
  },
  {
   "cell_type": "code",
   "execution_count": 8,
   "id": "3771ce7b",
   "metadata": {},
   "outputs": [
    {
     "data": {
      "text/plain": [
       "[0, 1, 4, 9, 16, 25, 36, 49, 64, 81]"
      ]
     },
     "execution_count": 8,
     "metadata": {},
     "output_type": "execute_result"
    }
   ],
   "source": [
    "Lsq "
   ]
  },
  {
   "cell_type": "code",
   "execution_count": 9,
   "id": "c6d45314",
   "metadata": {},
   "outputs": [],
   "source": [
    "LsqWithStepSize = [x**2 for x in range(2,15,2)]"
   ]
  },
  {
   "cell_type": "code",
   "execution_count": 10,
   "id": "724b539e",
   "metadata": {},
   "outputs": [
    {
     "data": {
      "text/plain": [
       "[4, 16, 36, 64, 100, 144, 196]"
      ]
     },
     "execution_count": 10,
     "metadata": {},
     "output_type": "execute_result"
    }
   ],
   "source": [
    "LsqWithStepSize"
   ]
  },
  {
   "cell_type": "code",
   "execution_count": null,
   "id": "1bb6d58b",
   "metadata": {},
   "outputs": [],
   "source": []
  },
  {
   "cell_type": "markdown",
   "id": "1195a575",
   "metadata": {},
   "source": [
    "# Dictionary in Python"
   ]
  },
  {
   "cell_type": "markdown",
   "id": "d94fc088",
   "metadata": {},
   "source": [
    "Dictionary is an unordered collection of key - value pairs enclosed with {}. Dictionary is mutable."
   ]
  },
  {
   "cell_type": "code",
   "execution_count": 62,
   "id": "12092cea",
   "metadata": {},
   "outputs": [
    {
     "data": {
      "text/plain": [
       "{'Apple': 100, 'Mango': 60, 'banana': 40}"
      ]
     },
     "execution_count": 62,
     "metadata": {},
     "output_type": "execute_result"
    }
   ],
   "source": [
    "d1 = {'Apple':100,'Mango':60,'banana':40}             # Here, Key- Fruit name\n",
    "                                                      # Value - Cost of fruit\n",
    "    \n",
    "d1"
   ]
  },
  {
   "cell_type": "code",
   "execution_count": 63,
   "id": "1b30c442",
   "metadata": {},
   "outputs": [
    {
     "data": {
      "text/plain": [
       "dict"
      ]
     },
     "execution_count": 63,
     "metadata": {},
     "output_type": "execute_result"
    }
   ],
   "source": [
    "type(d1)"
   ]
  },
  {
   "cell_type": "code",
   "execution_count": 64,
   "id": "1adaaa6a",
   "metadata": {},
   "outputs": [
    {
     "data": {
      "text/plain": [
       "dict_keys(['Apple', 'Mango', 'banana'])"
      ]
     },
     "execution_count": 64,
     "metadata": {},
     "output_type": "execute_result"
    }
   ],
   "source": [
    "d1.keys()                                             # to extract keys in dictionary"
   ]
  },
  {
   "cell_type": "code",
   "execution_count": 66,
   "id": "754e6571",
   "metadata": {},
   "outputs": [
    {
     "data": {
      "text/plain": [
       "dict_values([100, 60, 40])"
      ]
     },
     "execution_count": 66,
     "metadata": {},
     "output_type": "execute_result"
    }
   ],
   "source": [
    "d1.values()                                            # to extract values in dictionay"
   ]
  },
  {
   "cell_type": "markdown",
   "id": "fcfe00ec",
   "metadata": {},
   "source": [
    "Modifying element in a Dictionary"
   ]
  },
  {
   "cell_type": "code",
   "execution_count": 80,
   "id": "3a2b3155",
   "metadata": {},
   "outputs": [
    {
     "data": {
      "text/plain": [
       "{'straberry': 150, 'Papaya': 60, 'banana': 40}"
      ]
     },
     "execution_count": 80,
     "metadata": {},
     "output_type": "execute_result"
    }
   ],
   "source": [
    "d2 = {'straberry':150,'Papaya':60,'banana':40}\n",
    "d2"
   ]
  },
  {
   "cell_type": "code",
   "execution_count": 81,
   "id": "b5a3c8a2",
   "metadata": {},
   "outputs": [
    {
     "data": {
      "text/plain": [
       "{'straberry': 150, 'Papaya': 60, 'banana': 40, 'Mango': 80}"
      ]
     },
     "execution_count": 81,
     "metadata": {},
     "output_type": "execute_result"
    }
   ],
   "source": [
    "d2['Mango']= 80                                # Adding new element (Mango)\n",
    "d2"
   ]
  },
  {
   "cell_type": "code",
   "execution_count": 82,
   "id": "a1bece88",
   "metadata": {},
   "outputs": [
    {
     "data": {
      "text/plain": [
       "{'straberry': 150, 'Papaya': 50, 'banana': 40, 'Mango': 80}"
      ]
     },
     "execution_count": 82,
     "metadata": {},
     "output_type": "execute_result"
    }
   ],
   "source": [
    "d2['Papaya'] = 50                                # changing existing element (cost of Papaya)\n",
    "d2"
   ]
  },
  {
   "cell_type": "code",
   "execution_count": 85,
   "id": "5f65b2fa",
   "metadata": {},
   "outputs": [
    {
     "data": {
      "text/plain": [
       "{'orange': 10, 'Banana': 40, 'Papaya': 60, 'mango': 80}"
      ]
     },
     "execution_count": 85,
     "metadata": {},
     "output_type": "execute_result"
    }
   ],
   "source": [
    "fruit1 = {'orange':10,'Banana':40}\n",
    "fruit2 = {'Papaya':60,'mango':80}\n",
    "fruit1.update(fruit2)                           # update one dictionary's element with another\n",
    "fruit1"
   ]
  },
  {
   "cell_type": "code",
   "execution_count": 91,
   "id": "eab99d96",
   "metadata": {},
   "outputs": [
    {
     "data": {
      "text/plain": [
       "{'orange': 10, 'Banana': 40, 'mango': 80}"
      ]
     },
     "execution_count": 91,
     "metadata": {},
     "output_type": "execute_result"
    }
   ],
   "source": [
    "d3 =  {'orange':10,'Banana':40,'mango':80}\n",
    "d3"
   ]
  },
  {
   "cell_type": "code",
   "execution_count": 92,
   "id": "1728456f",
   "metadata": {},
   "outputs": [
    {
     "data": {
      "text/plain": [
       "{'orange': 10, 'mango': 80}"
      ]
     },
     "execution_count": 92,
     "metadata": {},
     "output_type": "execute_result"
    }
   ],
   "source": [
    "d3.pop('Banana')                            # Poping an element (Removing element)\n",
    "d3"
   ]
  },
  {
   "cell_type": "code",
   "execution_count": 3,
   "id": "4bd24417",
   "metadata": {},
   "outputs": [
    {
     "data": {
      "text/plain": [
       "{'orange': 10, 'Banana': 40, 'mango': 80}"
      ]
     },
     "execution_count": 3,
     "metadata": {},
     "output_type": "execute_result"
    }
   ],
   "source": [
    "d =  {'orange':10,'Banana':40,'mango':80}\n",
    "d"
   ]
  },
  {
   "cell_type": "code",
   "execution_count": 6,
   "id": "8cc8e9ad",
   "metadata": {},
   "outputs": [
    {
     "ename": "KeyError",
     "evalue": "'Banana'",
     "output_type": "error",
     "traceback": [
      "\u001b[1;31m---------------------------------------------------------------------------\u001b[0m",
      "\u001b[1;31mKeyError\u001b[0m                                  Traceback (most recent call last)",
      "\u001b[1;32m~\\AppData\\Local\\Temp/ipykernel_5168/1549792788.py\u001b[0m in \u001b[0;36m<module>\u001b[1;34m\u001b[0m\n\u001b[1;32m----> 1\u001b[1;33m \u001b[1;32mdel\u001b[0m \u001b[0md\u001b[0m\u001b[1;33m[\u001b[0m\u001b[1;34m\"Banana\"\u001b[0m\u001b[1;33m]\u001b[0m\u001b[1;33m\u001b[0m\u001b[1;33m\u001b[0m\u001b[0m\n\u001b[0m\u001b[0;32m      2\u001b[0m \u001b[0md\u001b[0m\u001b[1;33m\u001b[0m\u001b[1;33m\u001b[0m\u001b[0m\n",
      "\u001b[1;31mKeyError\u001b[0m: 'Banana'"
     ]
    }
   ],
   "source": [
    "del d[\"Banana\"]\n",
    "d"
   ]
  },
  {
   "cell_type": "code",
   "execution_count": 3,
   "id": "9f0a5725",
   "metadata": {},
   "outputs": [],
   "source": [
    "d3 =  {'orange':10,'Banana':40,'mango':80}"
   ]
  },
  {
   "cell_type": "code",
   "execution_count": 4,
   "id": "1ee28d9f",
   "metadata": {},
   "outputs": [
    {
     "data": {
      "text/plain": [
       "10"
      ]
     },
     "execution_count": 4,
     "metadata": {},
     "output_type": "execute_result"
    }
   ],
   "source": [
    "d3['orange']"
   ]
  },
  {
   "cell_type": "markdown",
   "id": "084ef315",
   "metadata": {},
   "source": [
    "# Set in Python\n"
   ]
  },
  {
   "cell_type": "markdown",
   "id": "fc76744a",
   "metadata": {},
   "source": [
    "Set is an unordered and unindexed collection of elements enclosed with {}. Duplicates are not allowed in set. It is also mutable."
   ]
  },
  {
   "cell_type": "code",
   "execution_count": 3,
   "id": "ca1775c4",
   "metadata": {},
   "outputs": [
    {
     "data": {
      "text/plain": [
       "{1, 2.3, 4, 'patna'}"
      ]
     },
     "execution_count": 3,
     "metadata": {},
     "output_type": "execute_result"
    }
   ],
   "source": [
    "s1 = {1,4,2.3,\"patna\"}\n",
    "s1"
   ]
  },
  {
   "cell_type": "code",
   "execution_count": 4,
   "id": "a9c2ca7b",
   "metadata": {},
   "outputs": [
    {
     "data": {
      "text/plain": [
       "{1, 2.3, 4, 'Patna'}"
      ]
     },
     "execution_count": 4,
     "metadata": {},
     "output_type": "execute_result"
    }
   ],
   "source": [
    "s1 = {1,4,2.3,'Patna',2.3,'Patna'}    # Duplicates values not stored.\n",
    "s1"
   ]
  },
  {
   "cell_type": "code",
   "execution_count": 112,
   "id": "ba9dcd99",
   "metadata": {},
   "outputs": [
    {
     "data": {
      "text/plain": [
       "{1, 5.34, False, 'a', 'b'}"
      ]
     },
     "execution_count": 112,
     "metadata": {},
     "output_type": "execute_result"
    }
   ],
   "source": [
    "s2 = {1,'a',True,5.34,'b',False}         # Elements in set have not specified index.\n",
    "s2"
   ]
  },
  {
   "cell_type": "code",
   "execution_count": 113,
   "id": "9408b1f7",
   "metadata": {},
   "outputs": [
    {
     "data": {
      "text/plain": [
       "{1, 5.34, False, 'a', 'b', 'hello'}"
      ]
     },
     "execution_count": 113,
     "metadata": {},
     "output_type": "execute_result"
    }
   ],
   "source": [
    "s2.add('hello')                       # Add an element in set.This element stored in unordered way.\n",
    "s2"
   ]
  },
  {
   "cell_type": "code",
   "execution_count": 114,
   "id": "4e67b0ef",
   "metadata": {},
   "outputs": [
    {
     "data": {
      "text/plain": [
       "{1, 10, 20, 30, 5.34, False, 'a', 'b', 'hello'}"
      ]
     },
     "execution_count": 114,
     "metadata": {},
     "output_type": "execute_result"
    }
   ],
   "source": [
    "s2.update({10,20,30})                 # Adding multiple elements \n",
    "s2"
   ]
  },
  {
   "cell_type": "code",
   "execution_count": 115,
   "id": "d8042739",
   "metadata": {},
   "outputs": [
    {
     "data": {
      "text/plain": [
       "{1, 10, 20, 30, 5.34, False, 'a', 'hello'}"
      ]
     },
     "execution_count": 115,
     "metadata": {},
     "output_type": "execute_result"
    }
   ],
   "source": [
    "s2.remove('b')                       # Removing an element\n",
    "s2"
   ]
  },
  {
   "cell_type": "code",
   "execution_count": 121,
   "id": "36e01ce3",
   "metadata": {},
   "outputs": [
    {
     "data": {
      "text/plain": [
       "{10, 20, 30, 'a', 'b', 'c'}"
      ]
     },
     "execution_count": 121,
     "metadata": {},
     "output_type": "execute_result"
    }
   ],
   "source": [
    "s1 = {10,20,30}                              # Union of two sets\n",
    "s2 = {'a','b','c'}\n",
    "s1.union(s2)"
   ]
  },
  {
   "cell_type": "code",
   "execution_count": 123,
   "id": "a659d47e",
   "metadata": {},
   "outputs": [
    {
     "data": {
      "text/plain": [
       "{4, 5}"
      ]
     },
     "execution_count": 123,
     "metadata": {},
     "output_type": "execute_result"
    }
   ],
   "source": [
    "s3 = {1,2,3,4,5,6}                          # Intersection of two sets\n",
    "s4 = {4,5,7,9}\n",
    "s3.intersection(s4)"
   ]
  },
  {
   "cell_type": "code",
   "execution_count": null,
   "id": "b6b4ae16",
   "metadata": {},
   "outputs": [],
   "source": []
  }
 ],
 "metadata": {
  "kernelspec": {
   "display_name": "Python 3 (ipykernel)",
   "language": "python",
   "name": "python3"
  },
  "language_info": {
   "codemirror_mode": {
    "name": "ipython",
    "version": 3
   },
   "file_extension": ".py",
   "mimetype": "text/x-python",
   "name": "python",
   "nbconvert_exporter": "python",
   "pygments_lexer": "ipython3",
   "version": "3.9.7"
  }
 },
 "nbformat": 4,
 "nbformat_minor": 5
}
