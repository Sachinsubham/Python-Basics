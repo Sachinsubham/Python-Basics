{
 "cells": [
  {
   "cell_type": "code",
   "execution_count": 8,
   "id": "dfb72e87",
   "metadata": {},
   "outputs": [
    {
     "name": "stdout",
     "output_type": "stream",
     "text": [
      "[[1 2 3 4]\n",
      " [3 4 5 6]]\n"
     ]
    }
   ],
   "source": [
    "import numpy as np\n",
    "\n",
    "n1 = np.array ([[1,2,3,4],[3,4,5,6]])\n",
    "print(n1)"
   ]
  },
  {
   "cell_type": "code",
   "execution_count": 15,
   "id": "748471da",
   "metadata": {},
   "outputs": [
    {
     "name": "stdout",
     "output_type": "stream",
     "text": [
      "[[[ 1  4  2]\n",
      "  [ 2  3  1]\n",
      "  [-1  3  5]]\n",
      "\n",
      " [[ 2  6  7]\n",
      "  [ 3  6  8]\n",
      "  [ 2  1  0]]]\n"
     ]
    }
   ],
   "source": [
    "import numpy as np\n",
    "arr = np.array ([[[1,4,2],[2,3,1],[-1,3,5]],[[2,6,7],[3,6,8],[2,1,0]]])\n",
    "print(arr)"
   ]
  },
  {
   "cell_type": "markdown",
   "id": "b067b10b",
   "metadata": {},
   "source": [
    "# Higher Dimensional array"
   ]
  },
  {
   "cell_type": "markdown",
   "id": "7dcd3ff2",
   "metadata": {},
   "source": [
    "An Array can have any number of dimensions"
   ]
  },
  {
   "cell_type": "markdown",
   "id": "a9b8ecc1",
   "metadata": {},
   "source": [
    "when the array is created , you can define the number of dimensions by using \"ndmin\" arguments."
   ]
  },
  {
   "cell_type": "code",
   "execution_count": 20,
   "id": "972ad509",
   "metadata": {},
   "outputs": [
    {
     "name": "stdout",
     "output_type": "stream",
     "text": [
      "[[[[[1 2 3 4]]]]]\n",
      "no. of dimensions :  5\n"
     ]
    }
   ],
   "source": [
    "\n",
    "A = np. array([1,2,3,4], ndmin = 5)\n",
    "print(A)\n",
    "print(\"no. of dimensions : \", A.ndim)"
   ]
  },
  {
   "cell_type": "code",
   "execution_count": 21,
   "id": "1a2c6db7",
   "metadata": {},
   "outputs": [
    {
     "name": "stdout",
     "output_type": "stream",
     "text": [
      "[[[[[2 5 7]]]]]\n",
      "no. of dimensions : 5\n"
     ]
    }
   ],
   "source": [
    "B = np.array([[[[[2,5,7]]]]])\n",
    "print(B)\n",
    "print(\"no. of dimensions :\", B.ndim)"
   ]
  },
  {
   "cell_type": "code",
   "execution_count": 26,
   "id": "630be033",
   "metadata": {},
   "outputs": [
    {
     "name": "stdout",
     "output_type": "stream",
     "text": [
      "Sum of first element of 1st row and last element of 2nd row : 90\n"
     ]
    }
   ],
   "source": [
    "\n",
    "C = np.array([[10,20,30,40],[50,60,70,80]])\n",
    "print(\"Sum of first element of 1st row and last element of 2nd row :\", C[0,0] + C[1,3])"
   ]
  },
  {
   "cell_type": "code",
   "execution_count": 28,
   "id": "e84dba2a",
   "metadata": {},
   "outputs": [
    {
     "name": "stdout",
     "output_type": "stream",
     "text": [
      "[10 20 30]\n"
     ]
    }
   ],
   "source": [
    "print(C[0,0:3])"
   ]
  },
  {
   "cell_type": "markdown",
   "id": "cd1f5cfb",
   "metadata": {},
   "source": [
    "# Data types in Numpy"
   ]
  },
  {
   "cell_type": "markdown",
   "id": "da16c403",
   "metadata": {},
   "source": [
    "Numpy has some extra data type and refer to data types with one character like -\n",
    "\n",
    "i - integer\n",
    "b- boolean\n",
    "u - unassigned integer\n",
    "f - float\n",
    "c - complex float\n",
    "s -string\n",
    "o- object\n",
    "U - unicode string"
   ]
  },
  {
   "cell_type": "markdown",
   "id": "39973570",
   "metadata": {},
   "source": [
    "# checking the data types of an array"
   ]
  },
  {
   "cell_type": "code",
   "execution_count": 30,
   "id": "aa20a1ec",
   "metadata": {},
   "outputs": [
    {
     "name": "stdout",
     "output_type": "stream",
     "text": [
      "int32\n"
     ]
    }
   ],
   "source": [
    "a = np.array([1,2,3,4])\n",
    "print(a.dtype)"
   ]
  },
  {
   "cell_type": "code",
   "execution_count": 31,
   "id": "8b818f27",
   "metadata": {},
   "outputs": [
    {
     "name": "stdout",
     "output_type": "stream",
     "text": [
      "<U6\n"
     ]
    }
   ],
   "source": [
    "b= np.array ([\"apple\",\"banana\",\"cherry\"])\n",
    "print(b.dtype)"
   ]
  },
  {
   "cell_type": "code",
   "execution_count": 33,
   "id": "7af656c7",
   "metadata": {},
   "outputs": [
    {
     "name": "stdout",
     "output_type": "stream",
     "text": [
      "<U32\n"
     ]
    }
   ],
   "source": [
    "C = np.array([1,2,3.1,4,\"apple\",\"banana\",\"cherry\"])\n",
    "print(C.dtype)"
   ]
  },
  {
   "cell_type": "markdown",
   "id": "d437b369",
   "metadata": {},
   "source": [
    "Numpy array shape - the shape of an array is the number of elements in each dimensions."
   ]
  },
  {
   "cell_type": "code",
   "execution_count": 2,
   "id": "5376efab",
   "metadata": {},
   "outputs": [
    {
     "name": "stdout",
     "output_type": "stream",
     "text": [
      "[[1 2 3 4]\n",
      " [3 4 5 6]]\n",
      "shape of the array  (2, 4)\n"
     ]
    }
   ],
   "source": [
    "import numpy as np\n",
    "arr = np.array ([[1,2,3,4],[3,4,5,6]])\n",
    "print(arr)\n",
    "print(\"shape of the array \", arr.shape)"
   ]
  },
  {
   "cell_type": "markdown",
   "id": "505bc6cc",
   "metadata": {},
   "source": [
    "# Joining of Numpy Arrays"
   ]
  },
  {
   "cell_type": "code",
   "execution_count": 4,
   "id": "466fc927",
   "metadata": {},
   "outputs": [
    {
     "name": "stdout",
     "output_type": "stream",
     "text": [
      "[1 2 3 4 5 6]\n"
     ]
    }
   ],
   "source": [
    "arr1 = np.array([1,2,3])\n",
    "arr2 = np.array([4,5,6])\n",
    "arr = np.concatenate((arr1,arr2))\n",
    "print(arr)"
   ]
  },
  {
   "cell_type": "code",
   "execution_count": 6,
   "id": "680ce0a3",
   "metadata": {},
   "outputs": [
    {
     "name": "stdout",
     "output_type": "stream",
     "text": [
      "[[1 2 5 6]\n",
      " [3 4 7 8]]\n"
     ]
    }
   ],
   "source": [
    "arr1 = np.array([[1,2],[3,4]])\n",
    "arr2 = np.array([[5,6],[7,8]])\n",
    "arr = np.concatenate((arr1,arr2),axis = 1)\n",
    "print(arr)"
   ]
  },
  {
   "cell_type": "code",
   "execution_count": 7,
   "id": "114f6006",
   "metadata": {},
   "outputs": [
    {
     "name": "stdout",
     "output_type": "stream",
     "text": [
      "[[1 2]\n",
      " [3 4]\n",
      " [5 6]\n",
      " [7 8]]\n"
     ]
    }
   ],
   "source": [
    "arr1 = np.array([[1,2],[3,4]])\n",
    "arr2 = np.array([[5,6],[7,8]])\n",
    "arr = np.concatenate((arr1,arr2),axis = 0)\n",
    "print(arr)"
   ]
  },
  {
   "cell_type": "markdown",
   "id": "5124605b",
   "metadata": {},
   "source": [
    "# Splitting Numpy arrays"
   ]
  },
  {
   "cell_type": "markdown",
   "id": "6430399a",
   "metadata": {},
   "source": [
    "splitting the arrays in 3 parts"
   ]
  },
  {
   "cell_type": "code",
   "execution_count": 2,
   "id": "6891d280",
   "metadata": {},
   "outputs": [
    {
     "name": "stdout",
     "output_type": "stream",
     "text": [
      "[array([1, 2]), array([3, 4]), array([5, 6])]\n"
     ]
    }
   ],
   "source": [
    "import numpy as np\n",
    "arr = np.array([1,2,3,4,5,6])\n",
    "newarr =np.array_split(arr,3)\n",
    "print(newarr)"
   ]
  },
  {
   "cell_type": "markdown",
   "id": "f15af063",
   "metadata": {},
   "source": [
    "splitting the arrays in 4 parts"
   ]
  },
  {
   "cell_type": "code",
   "execution_count": 3,
   "id": "ff8f6c4b",
   "metadata": {},
   "outputs": [
    {
     "name": "stdout",
     "output_type": "stream",
     "text": [
      "[array([1, 2]), array([3, 4]), array([5]), array([6])]\n"
     ]
    }
   ],
   "source": [
    "arr = np.array([1,2,3,4,5,6])\n",
    "newarr =np.array_split(arr,4)\n",
    "print(newarr)"
   ]
  },
  {
   "cell_type": "markdown",
   "id": "27e3e82c",
   "metadata": {},
   "source": [
    "# Ravel & Flatten"
   ]
  },
  {
   "cell_type": "markdown",
   "id": "96d1b591",
   "metadata": {},
   "source": [
    "It converts multidimensional array into 1D array"
   ]
  },
  {
   "cell_type": "code",
   "execution_count": 10,
   "id": "70c317a0",
   "metadata": {},
   "outputs": [
    {
     "name": "stdout",
     "output_type": "stream",
     "text": [
      "[[[1 2 4]\n",
      "  [5 6 7]\n",
      "  [3 8 9]]]\n",
      "no. of dimension is : 3\n",
      "[1 2 4 5 6 7 3 8 9]\n",
      "now the new dimension is : 1\n"
     ]
    }
   ],
   "source": [
    "m = np.array([[[1,2,4],[5,6,7],[3,8,9]]])\n",
    "print(m)\n",
    "print(\"no. of dimension is :\" ,m.ndim)\n",
    "n = m.ravel()\n",
    "print(n)\n",
    "print(\"now the new dimension is :\", n.ndim)"
   ]
  },
  {
   "cell_type": "code",
   "execution_count": 11,
   "id": "46756a2e",
   "metadata": {},
   "outputs": [
    {
     "name": "stdout",
     "output_type": "stream",
     "text": [
      "[[[1 2 4]\n",
      "  [5 6 7]\n",
      "  [3 8 9]]]\n",
      "no. of dimension is : 3\n",
      "[1 2 4 5 6 7 3 8 9]\n",
      "now the new dimension is : 1\n"
     ]
    }
   ],
   "source": [
    "m = np.array([[[1,2,4],[5,6,7],[3,8,9]]])\n",
    "print(m)\n",
    "print(\"no. of dimension is :\" ,m.ndim)\n",
    "n = m.flatten()\n",
    "print(n)\n",
    "print(\"now the new dimension is :\", n.ndim)"
   ]
  },
  {
   "cell_type": "code",
   "execution_count": 13,
   "id": "f37d70d5",
   "metadata": {},
   "outputs": [
    {
     "name": "stdout",
     "output_type": "stream",
     "text": [
      "[ 6  3  8  0  1  3  4 12  6  7  0  8  9 12  5  4  0]\n",
      "[ 0  1  3  4  5  6  7  8  9 12]\n"
     ]
    }
   ],
   "source": [
    "k = np.array([6,3,8,0,1,3,4,12,6,7,0,8,9,12,5,4,0])\n",
    "print(k)\n",
    "x = np.unique(k)\n",
    "print(x)"
   ]
  },
  {
   "cell_type": "code",
   "execution_count": 14,
   "id": "36b7eaa8",
   "metadata": {},
   "outputs": [
    {
     "name": "stdout",
     "output_type": "stream",
     "text": [
      "[ 6  3  8  0  1  3  4 12  6  7  0  8  9 12  5  4  0]\n",
      "(array([ 0,  1,  3,  4,  5,  6,  7,  8,  9, 12]), array([ 3,  4,  1,  6, 14,  0,  9,  2, 12,  7], dtype=int64))\n"
     ]
    }
   ],
   "source": [
    "k = np.array([6,3,8,0,1,3,4,12,6,7,0,8,9,12,5,4,0])\n",
    "print(k)\n",
    "x = np.unique(k, return_index = True)\n",
    "print(x)"
   ]
  },
  {
   "cell_type": "code",
   "execution_count": 15,
   "id": "da253d0f",
   "metadata": {},
   "outputs": [
    {
     "name": "stdout",
     "output_type": "stream",
     "text": [
      "[ 6  3  8  0  1  3  4 12  6  7  0  8  9 12  5  4  0]\n",
      "(array([ 0,  1,  3,  4,  5,  6,  7,  8,  9, 12]), array([ 3,  4,  1,  6, 14,  0,  9,  2, 12,  7], dtype=int64), array([3, 1, 2, 2, 1, 2, 1, 2, 1, 2], dtype=int64))\n"
     ]
    }
   ],
   "source": [
    "k = np.array([6,3,8,0,1,3,4,12,6,7,0,8,9,12,5,4,0])\n",
    "print(k)\n",
    "x = np.unique(k, return_index = True, return_counts = True)\n",
    "print(x)"
   ]
  },
  {
   "cell_type": "markdown",
   "id": "59276d6f",
   "metadata": {},
   "source": [
    "# Delete"
   ]
  },
  {
   "cell_type": "code",
   "execution_count": 16,
   "id": "4057390c",
   "metadata": {},
   "outputs": [
    {
     "name": "stdout",
     "output_type": "stream",
     "text": [
      "[12 14 15]\n"
     ]
    }
   ],
   "source": [
    "a = np.array([12,13,14,15])\n",
    "d = np.delete(a,[1])\n",
    "print(d)"
   ]
  },
  {
   "cell_type": "code",
   "execution_count": 22,
   "id": "4d9761cc",
   "metadata": {},
   "outputs": [
    {
     "name": "stdout",
     "output_type": "stream",
     "text": [
      "[[10 20 30]\n",
      " [40 50 60]\n",
      " [70 80 90]]\n",
      "\n",
      "[[10 20 30]\n",
      " [70 80 90]]\n"
     ]
    }
   ],
   "source": [
    "b = np.array([[10,20,30],[40,50,60],[70,80,90]])\n",
    "print(b)\n",
    "c = np.delete(b,1,axis = 0)\n",
    "print()\n",
    "print(c)"
   ]
  },
  {
   "cell_type": "code",
   "execution_count": 23,
   "id": "7be62487",
   "metadata": {},
   "outputs": [
    {
     "name": "stdout",
     "output_type": "stream",
     "text": [
      "[[10 20 30]\n",
      " [40 50 60]\n",
      " [70 80 90]]\n",
      "\n",
      "[[10 30]\n",
      " [40 60]\n",
      " [70 90]]\n"
     ]
    }
   ],
   "source": [
    "b = np.array([[10,20,30],[40,50,60],[70,80,90]])\n",
    "print(b)\n",
    "c = np.delete(b,1,axis = 1)\n",
    "print()\n",
    "print(c)"
   ]
  },
  {
   "cell_type": "code",
   "execution_count": 24,
   "id": "62333b87",
   "metadata": {},
   "outputs": [
    {
     "name": "stdout",
     "output_type": "stream",
     "text": [
      "[[10 20 30]\n",
      " [40 50 60]\n",
      " [70 80 90]]\n",
      "\n",
      "[[20 30]\n",
      " [50 60]\n",
      " [80 90]]\n"
     ]
    }
   ],
   "source": [
    "b = np.array([[10,20,30],[40,50,60],[70,80,90]])\n",
    "print(b)\n",
    "c = np.delete(b,0,axis = 1)\n",
    "print()\n",
    "print(c)"
   ]
  },
  {
   "cell_type": "code",
   "execution_count": null,
   "id": "96ea4fe4",
   "metadata": {},
   "outputs": [],
   "source": []
  }
 ],
 "metadata": {
  "kernelspec": {
   "display_name": "Python 3 (ipykernel)",
   "language": "python",
   "name": "python3"
  },
  "language_info": {
   "codemirror_mode": {
    "name": "ipython",
    "version": 3
   },
   "file_extension": ".py",
   "mimetype": "text/x-python",
   "name": "python",
   "nbconvert_exporter": "python",
   "pygments_lexer": "ipython3",
   "version": "3.11.5"
  }
 },
 "nbformat": 4,
 "nbformat_minor": 5
}
